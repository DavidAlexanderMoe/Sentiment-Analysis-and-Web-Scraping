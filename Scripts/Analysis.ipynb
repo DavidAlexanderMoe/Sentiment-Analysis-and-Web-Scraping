{
 "cells": [
  {
   "attachments": {},
   "cell_type": "markdown",
   "metadata": {},
   "source": [
    "# Sentiment Analysis"
   ]
  },
  {
   "cell_type": "code",
   "execution_count": 18,
   "metadata": {},
   "outputs": [],
   "source": [
    "import pandas as pd\n",
    "import json"
   ]
  },
  {
   "cell_type": "code",
   "execution_count": 19,
   "metadata": {},
   "outputs": [],
   "source": [
    "pd.set_option(\"max_colwidth\", None)"
   ]
  },
  {
   "cell_type": "code",
   "execution_count": 20,
   "metadata": {},
   "outputs": [],
   "source": [
    "def json_2_pandas(json_path):\n",
    "    with open(json_path, 'r') as json_file:\n",
    "        data = json.load(json_file)\n",
    "    \n",
    "    reviews = {\"Title\": [],\n",
    "               \"Rating\": [],\n",
    "               \"Content\": []}\n",
    "\n",
    "    for page in data:\n",
    "        if len(page) != 0:\n",
    "            for review in page:\n",
    "                reviews['Title'].append(review[\"title\"])\n",
    "                reviews['Rating'].append(int(review[\"rating\"][:1]))\n",
    "                reviews['Content'].append(review[\"body\"])\n",
    "    \n",
    "    reviews = pd.DataFrame.from_dict(reviews)\n",
    "    return reviews "
   ]
  },
  {
   "cell_type": "code",
   "execution_count": 21,
   "metadata": {},
   "outputs": [
    {
     "ename": "FileNotFoundError",
     "evalue": "[Errno 2] No such file or directory: 'json_path'",
     "output_type": "error",
     "traceback": [
      "\u001b[1;31m---------------------------------------------------------------------------\u001b[0m",
      "\u001b[1;31mFileNotFoundError\u001b[0m                         Traceback (most recent call last)",
      "Cell \u001b[1;32mIn[21], line 2\u001b[0m\n\u001b[0;32m      1\u001b[0m path \u001b[39m=\u001b[39m \u001b[39m'\u001b[39m\u001b[39mG:\u001b[39m\u001b[39m\\\u001b[39m\u001b[39mIl mio Drive\u001b[39m\u001b[39m\\\u001b[39m\u001b[39mMAGISTRALE\u001b[39m\u001b[39m\\\u001b[39m\u001b[39mIT Coding\u001b[39m\u001b[39m\\\u001b[39m\u001b[39mProject\u001b[39m\u001b[39m\\\u001b[39m\u001b[39mSentiment-Analysis-on-Amazon-product-reviews\u001b[39m\u001b[39m\\\u001b[39m\u001b[39mData\u001b[39m\u001b[39m\\\u001b[39m\u001b[39mB075QVMBT9_reviews.json\u001b[39m\u001b[39m'\u001b[39m\n\u001b[1;32m----> 2\u001b[0m reviews \u001b[39m=\u001b[39m json_2_pandas(path)\n",
      "Cell \u001b[1;32mIn[20], line 2\u001b[0m, in \u001b[0;36mjson_2_pandas\u001b[1;34m(json_path)\u001b[0m\n\u001b[0;32m      1\u001b[0m \u001b[39mdef\u001b[39;00m \u001b[39mjson_2_pandas\u001b[39m(json_path):\n\u001b[1;32m----> 2\u001b[0m     \u001b[39mwith\u001b[39;00m \u001b[39mopen\u001b[39;49m(\u001b[39m'\u001b[39;49m\u001b[39mjson_path\u001b[39;49m\u001b[39m'\u001b[39;49m, \u001b[39m'\u001b[39;49m\u001b[39mr\u001b[39;49m\u001b[39m'\u001b[39;49m) \u001b[39mas\u001b[39;00m json_file:\n\u001b[0;32m      3\u001b[0m         data \u001b[39m=\u001b[39m json\u001b[39m.\u001b[39mload(json_file)\n\u001b[0;32m      5\u001b[0m     reviews \u001b[39m=\u001b[39m {\u001b[39m\"\u001b[39m\u001b[39mTitle\u001b[39m\u001b[39m\"\u001b[39m: [],\n\u001b[0;32m      6\u001b[0m                \u001b[39m\"\u001b[39m\u001b[39mRating\u001b[39m\u001b[39m\"\u001b[39m: [],\n\u001b[0;32m      7\u001b[0m                \u001b[39m\"\u001b[39m\u001b[39mContent\u001b[39m\u001b[39m\"\u001b[39m: []}\n",
      "File \u001b[1;32m~\\AppData\\Local\\Packages\\PythonSoftwareFoundation.Python.3.10_qbz5n2kfra8p0\\LocalCache\\local-packages\\Python310\\site-packages\\IPython\\core\\interactiveshell.py:282\u001b[0m, in \u001b[0;36m_modified_open\u001b[1;34m(file, *args, **kwargs)\u001b[0m\n\u001b[0;32m    275\u001b[0m \u001b[39mif\u001b[39;00m file \u001b[39min\u001b[39;00m {\u001b[39m0\u001b[39m, \u001b[39m1\u001b[39m, \u001b[39m2\u001b[39m}:\n\u001b[0;32m    276\u001b[0m     \u001b[39mraise\u001b[39;00m \u001b[39mValueError\u001b[39;00m(\n\u001b[0;32m    277\u001b[0m         \u001b[39mf\u001b[39m\u001b[39m\"\u001b[39m\u001b[39mIPython won\u001b[39m\u001b[39m'\u001b[39m\u001b[39mt let you open fd=\u001b[39m\u001b[39m{\u001b[39;00mfile\u001b[39m}\u001b[39;00m\u001b[39m by default \u001b[39m\u001b[39m\"\u001b[39m\n\u001b[0;32m    278\u001b[0m         \u001b[39m\"\u001b[39m\u001b[39mas it is likely to crash IPython. If you know what you are doing, \u001b[39m\u001b[39m\"\u001b[39m\n\u001b[0;32m    279\u001b[0m         \u001b[39m\"\u001b[39m\u001b[39myou can use builtins\u001b[39m\u001b[39m'\u001b[39m\u001b[39m open.\u001b[39m\u001b[39m\"\u001b[39m\n\u001b[0;32m    280\u001b[0m     )\n\u001b[1;32m--> 282\u001b[0m \u001b[39mreturn\u001b[39;00m io_open(file, \u001b[39m*\u001b[39margs, \u001b[39m*\u001b[39m\u001b[39m*\u001b[39mkwargs)\n",
      "\u001b[1;31mFileNotFoundError\u001b[0m: [Errno 2] No such file or directory: 'json_path'"
     ]
    }
   ],
   "source": [
    "path = 'G:\\Il mio Drive\\MAGISTRALE\\IT Coding\\Project\\Sentiment-Analysis-on-Amazon-product-reviews\\Data\\B075QVMBT9_reviews.json'\n",
    "reviews = json_2_pandas(json_path = path)"
   ]
  },
  {
   "cell_type": "code",
   "execution_count": null,
   "metadata": {},
   "outputs": [
    {
     "data": {
      "text/html": [
       "<div>\n",
       "<style scoped>\n",
       "    .dataframe tbody tr th:only-of-type {\n",
       "        vertical-align: middle;\n",
       "    }\n",
       "\n",
       "    .dataframe tbody tr th {\n",
       "        vertical-align: top;\n",
       "    }\n",
       "\n",
       "    .dataframe thead th {\n",
       "        text-align: right;\n",
       "    }\n",
       "</style>\n",
       "<table border=\"1\" class=\"dataframe\">\n",
       "  <thead>\n",
       "    <tr style=\"text-align: right;\">\n",
       "      <th></th>\n",
       "      <th>Title</th>\n",
       "      <th>Rating</th>\n",
       "      <th>Content</th>\n",
       "    </tr>\n",
       "  </thead>\n",
       "  <tbody>\n",
       "    <tr>\n",
       "      <th>0</th>\n",
       "      <td>Its a beuaty</td>\n",
       "      <td>5</td>\n",
       "      <td>Love its compact shape and sound</td>\n",
       "    </tr>\n",
       "    <tr>\n",
       "      <th>1</th>\n",
       "      <td>Perfect upgrade for PC Audio</td>\n",
       "      <td>5</td>\n",
       "      <td>If you ruining cheap PC Speakers those will blow your mind. Clean sound, small frame, good value for money.</td>\n",
       "    </tr>\n",
       "    <tr>\n",
       "      <th>2</th>\n",
       "      <td>Wonderful monitors</td>\n",
       "      <td>5</td>\n",
       "      <td>It's been some years since using any monitors as I use DT770 250's for all my audio work and wow, I'm so pleased I added these to my studio.\\n\\nFirst the sound.\\n\\nThe sound is quite flat which is good as you can accurately EQ your sound. The bass is \"even\", meaning that it's there but it's not exaggerated. The mids are very well balanced (they sound great) and the high end is also fairly well balanced and you can get some nice air and snap when EQing. For those that have the Bayer Dynamic DT770 250</td>\n",
       "    </tr>\n",
       "    <tr>\n",
       "      <th>3</th>\n",
       "      <td>Not loud enough</td>\n",
       "      <td>2</td>\n",
       "      <td>These are probably suited for bedroom use and not anything more. The bass kept cutting out with the highs and mids at times also doing the same. Not great at all - I opted for KrK’s instead!</td>\n",
       "    </tr>\n",
       "    <tr>\n",
       "      <th>4</th>\n",
       "      <td>Faulty</td>\n",
       "      <td>1</td>\n",
       "      <td>Passive speaker won't connect to the main speaker.. Faulty\\nVery disappointed</td>\n",
       "    </tr>\n",
       "    <tr>\n",
       "      <th>5</th>\n",
       "      <td>Brilliant monitor speakers for DJ'ing</td>\n",
       "      <td>5</td>\n",
       "      <td>Absolutely love these speakers - perfect for DJ'ing at home and loud enough for a little boogie with the kids. Sound quality is great and I'm glad I did my research ahead of time. Build quality is really good, the volume pot is nice and smooth.\\n\\nThese would be great for home music production or for gaming.\\n\\nWell worth the investment.</td>\n",
       "    </tr>\n",
       "    <tr>\n",
       "      <th>6</th>\n",
       "      <td>very good but not as good as the harman kardon soundticks</td>\n",
       "      <td>4</td>\n",
       "      <td>very good but not as good as the harman kardon soundticks\\n\\nthough these are smaller overall</td>\n",
       "    </tr>\n",
       "    <tr>\n",
       "      <th>7</th>\n",
       "      <td>Crackling sound when connected to bluetooth</td>\n",
       "      <td>1</td>\n",
       "      <td>I’d like to preface this review by saying I tried 2 different sets of these speakers (both the bluetooth version), brand new, and both had the EXACT same issue, so must be a model issue rather than a one-off problem.\\n\\nThe first pair I bought had a constant crackling/buzzing noise coming from the passive speaker when connected to bluetooth. The noise disappeared when disconnected from bluetooth, but appeared instantly when connected. It was audible at low volumes which ruined the listening experi</td>\n",
       "    </tr>\n",
       "    <tr>\n",
       "      <th>8</th>\n",
       "      <td>These broke after 2 years</td>\n",
       "      <td>1</td>\n",
       "      <td>My speakers broke after a couple of years - useless the amp went inside.</td>\n",
       "    </tr>\n",
       "    <tr>\n",
       "      <th>9</th>\n",
       "      <td>impressive sound quality!</td>\n",
       "      <td>5</td>\n",
       "      <td>bought a pair of these for my daughter, so good I kept them and ordered another pair :-)</td>\n",
       "    </tr>\n",
       "  </tbody>\n",
       "</table>\n",
       "</div>"
      ],
      "text/plain": [
       "                                                       Title  Rating  \\\n",
       "0                                               Its a beuaty       5   \n",
       "1                               Perfect upgrade for PC Audio       5   \n",
       "2                                         Wonderful monitors       5   \n",
       "3                                            Not loud enough       2   \n",
       "4                                                     Faulty       1   \n",
       "5                      Brilliant monitor speakers for DJ'ing       5   \n",
       "6  very good but not as good as the harman kardon soundticks       4   \n",
       "7                Crackling sound when connected to bluetooth       1   \n",
       "8                                  These broke after 2 years       1   \n",
       "9                                  impressive sound quality!       5   \n",
       "\n",
       "                                                                                                                                                                                                                                                                                                                                                                                                                                                                                                                    Content  \n",
       "0                                                                                                                                                                                                                                                                                                                                                                                                                                                                                          Love its compact shape and sound  \n",
       "1                                                                                                                                                                                                                                                                                                                                                                                                               If you ruining cheap PC Speakers those will blow your mind. Clean sound, small frame, good value for money.  \n",
       "2  It's been some years since using any monitors as I use DT770 250's for all my audio work and wow, I'm so pleased I added these to my studio.\\n\\nFirst the sound.\\n\\nThe sound is quite flat which is good as you can accurately EQ your sound. The bass is \"even\", meaning that it's there but it's not exaggerated. The mids are very well balanced (they sound great) and the high end is also fairly well balanced and you can get some nice air and snap when EQing. For those that have the Bayer Dynamic DT770 250  \n",
       "3                                                                                                                                                                                                                                                                                                                            These are probably suited for bedroom use and not anything more. The bass kept cutting out with the highs and mids at times also doing the same. Not great at all - I opted for KrK’s instead!  \n",
       "4                                                                                                                                                                                                                                                                                                                                                                                                                                             Passive speaker won't connect to the main speaker.. Faulty\\nVery disappointed  \n",
       "5                                                                                                                                                                       Absolutely love these speakers - perfect for DJ'ing at home and loud enough for a little boogie with the kids. Sound quality is great and I'm glad I did my research ahead of time. Build quality is really good, the volume pot is nice and smooth.\\n\\nThese would be great for home music production or for gaming.\\n\\nWell worth the investment.  \n",
       "6                                                                                                                                                                                                                                                                                                                                                                                                                             very good but not as good as the harman kardon soundticks\\n\\nthough these are smaller overall  \n",
       "7    I’d like to preface this review by saying I tried 2 different sets of these speakers (both the bluetooth version), brand new, and both had the EXACT same issue, so must be a model issue rather than a one-off problem.\\n\\nThe first pair I bought had a constant crackling/buzzing noise coming from the passive speaker when connected to bluetooth. The noise disappeared when disconnected from bluetooth, but appeared instantly when connected. It was audible at low volumes which ruined the listening experi  \n",
       "8                                                                                                                                                                                                                                                                                                                                                                                                                                                  My speakers broke after a couple of years - useless the amp went inside.  \n",
       "9                                                                                                                                                                                                                                                                                                                                                                                                                                  bought a pair of these for my daughter, so good I kept them and ordered another pair :-)  "
      ]
     },
     "execution_count": 14,
     "metadata": {},
     "output_type": "execute_result"
    }
   ],
   "source": [
    "reviews.head(10)"
   ]
  },
  {
   "cell_type": "code",
   "execution_count": null,
   "metadata": {},
   "outputs": [
    {
     "data": {
      "text/plain": [
       "'It\\'s been some years since using any monitors as I use DT770 250\\'s for all my audio work and wow, I\\'m so pleased I added these to my studio.\\n\\nFirst the sound.\\n\\nThe sound is quite flat which is good as you can accurately EQ your sound. The bass is \"even\", meaning that it\\'s there but it\\'s not exaggerated. The mids are very well balanced (they sound great) and the high end is also fairly well balanced and you can get some nice air and snap when EQing. For those that have the Bayer Dynamic DT770 250'"
      ]
     },
     "execution_count": 15,
     "metadata": {},
     "output_type": "execute_result"
    }
   ],
   "source": [
    "reviews.iloc[2]['Content']"
   ]
  }
 ],
 "metadata": {
  "kernelspec": {
   "display_name": "Python 3",
   "language": "python",
   "name": "python3"
  },
  "language_info": {
   "codemirror_mode": {
    "name": "ipython",
    "version": 3
   },
   "file_extension": ".py",
   "mimetype": "text/x-python",
   "name": "python",
   "nbconvert_exporter": "python",
   "pygments_lexer": "ipython3",
   "version": "3.10.11"
  },
  "orig_nbformat": 4
 },
 "nbformat": 4,
 "nbformat_minor": 2
}
