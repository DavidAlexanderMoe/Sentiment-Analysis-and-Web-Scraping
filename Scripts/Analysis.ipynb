{
 "cells": [
  {
   "attachments": {},
   "cell_type": "markdown",
   "metadata": {},
   "source": [
    "# Sentiment Analysis"
   ]
  },
  {
   "cell_type": "code",
   "execution_count": 10,
   "metadata": {},
   "outputs": [],
   "source": [
    "import pandas as pd\n",
    "import json"
   ]
  },
  {
   "cell_type": "code",
   "execution_count": 11,
   "metadata": {},
   "outputs": [],
   "source": [
    "with open('G:\\Il mio Drive\\MAGISTRALE\\IT Coding\\Project\\Sentiment-Analysis-on-Amazon-product-reviews\\Data\\B075QVMBT9_reviews.json', 'r') as json_file:\n",
    "    data = json.load(json_file)"
   ]
  },
  {
   "cell_type": "code",
   "execution_count": 12,
   "metadata": {},
   "outputs": [],
   "source": [
    "reviews = {\"Title\": [],\n",
    "           \"Rating\": [],\n",
    "           \"Content\": []}\n",
    "\n",
    "for i, page in enumerate(data):\n",
    "    if len(page) != 0:\n",
    "        for review in page:\n",
    "            reviews['Title'].append(review[\"title\"])\n",
    "            reviews['Rating'].append(int(review[\"rating\"][:1]))\n",
    "            reviews['Content'].append(review[\"body\"])"
   ]
  },
  {
   "cell_type": "code",
   "execution_count": 13,
   "metadata": {},
   "outputs": [],
   "source": [
    "pd.set_option(\"max_colwidth\", None)\n",
    "reviews = pd.DataFrame.from_dict(reviews)"
   ]
  },
  {
   "cell_type": "code",
   "execution_count": 14,
   "metadata": {},
   "outputs": [
    {
     "data": {
      "text/html": [
       "<div>\n",
       "<style scoped>\n",
       "    .dataframe tbody tr th:only-of-type {\n",
       "        vertical-align: middle;\n",
       "    }\n",
       "\n",
       "    .dataframe tbody tr th {\n",
       "        vertical-align: top;\n",
       "    }\n",
       "\n",
       "    .dataframe thead th {\n",
       "        text-align: right;\n",
       "    }\n",
       "</style>\n",
       "<table border=\"1\" class=\"dataframe\">\n",
       "  <thead>\n",
       "    <tr style=\"text-align: right;\">\n",
       "      <th></th>\n",
       "      <th>Title</th>\n",
       "      <th>Rating</th>\n",
       "      <th>Content</th>\n",
       "    </tr>\n",
       "  </thead>\n",
       "  <tbody>\n",
       "    <tr>\n",
       "      <th>0</th>\n",
       "      <td>Its a beuaty</td>\n",
       "      <td>5</td>\n",
       "      <td>Love its compact shape and sound</td>\n",
       "    </tr>\n",
       "    <tr>\n",
       "      <th>1</th>\n",
       "      <td>Perfect upgrade for PC Audio</td>\n",
       "      <td>5</td>\n",
       "      <td>If you ruining cheap PC Speakers those will blow your mind. Clean sound, small frame, good value for money.</td>\n",
       "    </tr>\n",
       "    <tr>\n",
       "      <th>2</th>\n",
       "      <td>Wonderful monitors</td>\n",
       "      <td>5</td>\n",
       "      <td>It's been some years since using any monitors as I use DT770 250's for all my audio work and wow, I'm so pleased I added these to my studio.\\n\\nFirst the sound.\\n\\nThe sound is quite flat which is good as you can accurately EQ your sound. The bass is \"even\", meaning that it's there but it's not exaggerated. The mids are very well balanced (they sound great) and the high end is also fairly well balanced and you can get some nice air and snap when EQing. For those that have the Bayer Dynamic DT770 250</td>\n",
       "    </tr>\n",
       "    <tr>\n",
       "      <th>3</th>\n",
       "      <td>Not loud enough</td>\n",
       "      <td>2</td>\n",
       "      <td>These are probably suited for bedroom use and not anything more. The bass kept cutting out with the highs and mids at times also doing the same. Not great at all - I opted for KrK’s instead!</td>\n",
       "    </tr>\n",
       "    <tr>\n",
       "      <th>4</th>\n",
       "      <td>Faulty</td>\n",
       "      <td>1</td>\n",
       "      <td>Passive speaker won't connect to the main speaker.. Faulty\\nVery disappointed</td>\n",
       "    </tr>\n",
       "    <tr>\n",
       "      <th>5</th>\n",
       "      <td>Brilliant monitor speakers for DJ'ing</td>\n",
       "      <td>5</td>\n",
       "      <td>Absolutely love these speakers - perfect for DJ'ing at home and loud enough for a little boogie with the kids. Sound quality is great and I'm glad I did my research ahead of time. Build quality is really good, the volume pot is nice and smooth.\\n\\nThese would be great for home music production or for gaming.\\n\\nWell worth the investment.</td>\n",
       "    </tr>\n",
       "    <tr>\n",
       "      <th>6</th>\n",
       "      <td>very good but not as good as the harman kardon soundticks</td>\n",
       "      <td>4</td>\n",
       "      <td>very good but not as good as the harman kardon soundticks\\n\\nthough these are smaller overall</td>\n",
       "    </tr>\n",
       "    <tr>\n",
       "      <th>7</th>\n",
       "      <td>Crackling sound when connected to bluetooth</td>\n",
       "      <td>1</td>\n",
       "      <td>I’d like to preface this review by saying I tried 2 different sets of these speakers (both the bluetooth version), brand new, and both had the EXACT same issue, so must be a model issue rather than a one-off problem.\\n\\nThe first pair I bought had a constant crackling/buzzing noise coming from the passive speaker when connected to bluetooth. The noise disappeared when disconnected from bluetooth, but appeared instantly when connected. It was audible at low volumes which ruined the listening experi</td>\n",
       "    </tr>\n",
       "    <tr>\n",
       "      <th>8</th>\n",
       "      <td>These broke after 2 years</td>\n",
       "      <td>1</td>\n",
       "      <td>My speakers broke after a couple of years - useless the amp went inside.</td>\n",
       "    </tr>\n",
       "    <tr>\n",
       "      <th>9</th>\n",
       "      <td>impressive sound quality!</td>\n",
       "      <td>5</td>\n",
       "      <td>bought a pair of these for my daughter, so good I kept them and ordered another pair :-)</td>\n",
       "    </tr>\n",
       "  </tbody>\n",
       "</table>\n",
       "</div>"
      ],
      "text/plain": [
       "                                                       Title  Rating  \\\n",
       "0                                               Its a beuaty       5   \n",
       "1                               Perfect upgrade for PC Audio       5   \n",
       "2                                         Wonderful monitors       5   \n",
       "3                                            Not loud enough       2   \n",
       "4                                                     Faulty       1   \n",
       "5                      Brilliant monitor speakers for DJ'ing       5   \n",
       "6  very good but not as good as the harman kardon soundticks       4   \n",
       "7                Crackling sound when connected to bluetooth       1   \n",
       "8                                  These broke after 2 years       1   \n",
       "9                                  impressive sound quality!       5   \n",
       "\n",
       "                                                                                                                                                                                                                                                                                                                                                                                                                                                                                                                    Content  \n",
       "0                                                                                                                                                                                                                                                                                                                                                                                                                                                                                          Love its compact shape and sound  \n",
       "1                                                                                                                                                                                                                                                                                                                                                                                                               If you ruining cheap PC Speakers those will blow your mind. Clean sound, small frame, good value for money.  \n",
       "2  It's been some years since using any monitors as I use DT770 250's for all my audio work and wow, I'm so pleased I added these to my studio.\\n\\nFirst the sound.\\n\\nThe sound is quite flat which is good as you can accurately EQ your sound. The bass is \"even\", meaning that it's there but it's not exaggerated. The mids are very well balanced (they sound great) and the high end is also fairly well balanced and you can get some nice air and snap when EQing. For those that have the Bayer Dynamic DT770 250  \n",
       "3                                                                                                                                                                                                                                                                                                                            These are probably suited for bedroom use and not anything more. The bass kept cutting out with the highs and mids at times also doing the same. Not great at all - I opted for KrK’s instead!  \n",
       "4                                                                                                                                                                                                                                                                                                                                                                                                                                             Passive speaker won't connect to the main speaker.. Faulty\\nVery disappointed  \n",
       "5                                                                                                                                                                       Absolutely love these speakers - perfect for DJ'ing at home and loud enough for a little boogie with the kids. Sound quality is great and I'm glad I did my research ahead of time. Build quality is really good, the volume pot is nice and smooth.\\n\\nThese would be great for home music production or for gaming.\\n\\nWell worth the investment.  \n",
       "6                                                                                                                                                                                                                                                                                                                                                                                                                             very good but not as good as the harman kardon soundticks\\n\\nthough these are smaller overall  \n",
       "7    I’d like to preface this review by saying I tried 2 different sets of these speakers (both the bluetooth version), brand new, and both had the EXACT same issue, so must be a model issue rather than a one-off problem.\\n\\nThe first pair I bought had a constant crackling/buzzing noise coming from the passive speaker when connected to bluetooth. The noise disappeared when disconnected from bluetooth, but appeared instantly when connected. It was audible at low volumes which ruined the listening experi  \n",
       "8                                                                                                                                                                                                                                                                                                                                                                                                                                                  My speakers broke after a couple of years - useless the amp went inside.  \n",
       "9                                                                                                                                                                                                                                                                                                                                                                                                                                  bought a pair of these for my daughter, so good I kept them and ordered another pair :-)  "
      ]
     },
     "execution_count": 14,
     "metadata": {},
     "output_type": "execute_result"
    }
   ],
   "source": [
    "reviews.head(10)"
   ]
  },
  {
   "cell_type": "code",
   "execution_count": 15,
   "metadata": {},
   "outputs": [
    {
     "data": {
      "text/plain": [
       "'It\\'s been some years since using any monitors as I use DT770 250\\'s for all my audio work and wow, I\\'m so pleased I added these to my studio.\\n\\nFirst the sound.\\n\\nThe sound is quite flat which is good as you can accurately EQ your sound. The bass is \"even\", meaning that it\\'s there but it\\'s not exaggerated. The mids are very well balanced (they sound great) and the high end is also fairly well balanced and you can get some nice air and snap when EQing. For those that have the Bayer Dynamic DT770 250'"
      ]
     },
     "execution_count": 15,
     "metadata": {},
     "output_type": "execute_result"
    }
   ],
   "source": [
    "reviews.iloc[2]['Content']"
   ]
  }
 ],
 "metadata": {
  "kernelspec": {
   "display_name": "Python 3",
   "language": "python",
   "name": "python3"
  },
  "language_info": {
   "codemirror_mode": {
    "name": "ipython",
    "version": 3
   },
   "file_extension": ".py",
   "mimetype": "text/x-python",
   "name": "python",
   "nbconvert_exporter": "python",
   "pygments_lexer": "ipython3",
   "version": "3.10.11"
  },
  "orig_nbformat": 4
 },
 "nbformat": 4,
 "nbformat_minor": 2
}
