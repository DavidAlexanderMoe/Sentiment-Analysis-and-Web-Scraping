{
 "cells": [
  {
   "attachments": {},
   "cell_type": "markdown",
   "metadata": {},
   "source": [
    "# Sentiment Analysis"
   ]
  },
  {
   "attachments": {},
   "cell_type": "markdown",
   "metadata": {},
   "source": [
    "**What is sentiment analysis?** Sentiment analysis is defined as the process of mining of data, view, review or sentence to predict the emotion of the sentence through natural language processing (NLP). The sentiment analysis involve classification of text into three phase “Positive”, “Negative” or“Neutral”. It analyzes the data and labels the ‘better’ and ‘worse’ sentiment as positive and negative respectively.\n",
    "\n",
    "---\n",
    "\n",
    "In this analysis i am going to use different approaches:\n",
    "- a traditional approach using NLTK (Natural Language ToolKit - https://www.nltk.org/)\n",
    "- some Machine Learning models (KNN, Naive Bayes, Logistic Regression, SVM,) along with pre-trained Deep Learning models (such as HuggingFace's RoBERTa)\n",
    "- and an extra is the use of some pre-trained pipelines for making sentiment analysis really quick and easy (this will be really useful for the streamlit sentiment analyzer webapp)"
   ]
  },
  {
   "attachments": {},
   "cell_type": "markdown",
   "metadata": {},
   "source": [
    "### Importing dependencies"
   ]
  },
  {
   "cell_type": "code",
   "execution_count": 75,
   "metadata": {},
   "outputs": [],
   "source": [
    "import matplotlib.pyplot as plt\n",
    "from matplotlib import style\n",
    "import pandas as pd\n",
    "import numpy as np\n",
    "import seaborn as sns\n",
    "import json\n",
    "import nltk"
   ]
  },
  {
   "cell_type": "code",
   "execution_count": 61,
   "metadata": {},
   "outputs": [],
   "source": [
    "pd.set_option(\"max_colwidth\", None)\n",
    "plt.style.use('ggplot')"
   ]
  },
  {
   "attachments": {},
   "cell_type": "markdown",
   "metadata": {},
   "source": [
    "### Data cleaning"
   ]
  },
  {
   "attachments": {},
   "cell_type": "markdown",
   "metadata": {},
   "source": [
    "After the data scraping/mining step i ended up with a json file which needs to be converted into a pandas dataframe to simplify the analysis. \n",
    "\n",
    "This is the purpose of the **json_2_pandas** function: it takes as input the path where the json file is located, than opens it in 'read' ('r') mode to load the data. After loading the data, I iterate through the object to extract review titles, ratings and contents and adding them to a dictionary."
   ]
  },
  {
   "cell_type": "code",
   "execution_count": 24,
   "metadata": {},
   "outputs": [],
   "source": [
    "def json_2_pandas(json_path):\n",
    "    with open(json_path, 'r') as json_file:\n",
    "        data = json.load(json_file)\n",
    "    \n",
    "    reviews = {\"Title\": [],\n",
    "               \"Rating\": [],\n",
    "               \"Content\": []}\n",
    "\n",
    "    for page in data:\n",
    "        if len(page) != 0:          # if there are reviews in that page list\n",
    "            for review in page:\n",
    "                # append to the lists in the dictionary the desired elements\n",
    "                reviews['Title'].append(review[\"title\"])\n",
    "                reviews['Rating'].append(int(review[\"rating\"][:1]))\n",
    "                reviews['Content'].append(review[\"body\"])\n",
    "    \n",
    "    reviews = pd.DataFrame.from_dict(reviews)\n",
    "    return reviews "
   ]
  },
  {
   "cell_type": "code",
   "execution_count": 25,
   "metadata": {},
   "outputs": [],
   "source": [
    "path = 'G:\\Il mio Drive\\MAGISTRALE\\IT Coding\\Project\\Sentiment-Analysis-on-Amazon-product-reviews\\Data\\B075QVMBT9_reviews.json'\n",
    "reviews = json_2_pandas(json_path = path)"
   ]
  },
  {
   "cell_type": "code",
   "execution_count": 29,
   "metadata": {},
   "outputs": [
    {
     "data": {
      "text/plain": [
       "(738, 3)"
      ]
     },
     "execution_count": 29,
     "metadata": {},
     "output_type": "execute_result"
    }
   ],
   "source": [
    "reviews.shape"
   ]
  },
  {
   "cell_type": "code",
   "execution_count": 145,
   "metadata": {},
   "outputs": [],
   "source": [
    "reviews['Id'] = range(1, len(reviews)+1)"
   ]
  },
  {
   "cell_type": "code",
   "execution_count": 146,
   "metadata": {},
   "outputs": [
    {
     "data": {
      "text/html": [
       "<div>\n",
       "<style scoped>\n",
       "    .dataframe tbody tr th:only-of-type {\n",
       "        vertical-align: middle;\n",
       "    }\n",
       "\n",
       "    .dataframe tbody tr th {\n",
       "        vertical-align: top;\n",
       "    }\n",
       "\n",
       "    .dataframe thead th {\n",
       "        text-align: right;\n",
       "    }\n",
       "</style>\n",
       "<table border=\"1\" class=\"dataframe\">\n",
       "  <thead>\n",
       "    <tr style=\"text-align: right;\">\n",
       "      <th></th>\n",
       "      <th>Title</th>\n",
       "      <th>Rating</th>\n",
       "      <th>Content</th>\n",
       "      <th>id</th>\n",
       "      <th>Id</th>\n",
       "    </tr>\n",
       "  </thead>\n",
       "  <tbody>\n",
       "    <tr>\n",
       "      <th>0</th>\n",
       "      <td>Its a beuaty</td>\n",
       "      <td>5</td>\n",
       "      <td>Love its compact shape and sound</td>\n",
       "      <td>1</td>\n",
       "      <td>1</td>\n",
       "    </tr>\n",
       "    <tr>\n",
       "      <th>1</th>\n",
       "      <td>Perfect upgrade for PC Audio</td>\n",
       "      <td>5</td>\n",
       "      <td>If you ruining cheap PC Speakers those will blow your mind. Clean sound, small frame, good value for money.</td>\n",
       "      <td>2</td>\n",
       "      <td>2</td>\n",
       "    </tr>\n",
       "    <tr>\n",
       "      <th>2</th>\n",
       "      <td>Wonderful monitors</td>\n",
       "      <td>5</td>\n",
       "      <td>It's been some years since using any monitors as I use DT770 250's for all my audio work and wow, I'm so pleased I added these to my studio.\\n\\nFirst the sound.\\n\\nThe sound is quite flat which is good as you can accurately EQ your sound. The bass is \"even\", meaning that it's there but it's not exaggerated. The mids are very well balanced (they sound great) and the high end is also fairly well balanced and you can get some nice air and snap when EQing. For those that have the Bayer Dynamic DT770 250</td>\n",
       "      <td>3</td>\n",
       "      <td>3</td>\n",
       "    </tr>\n",
       "    <tr>\n",
       "      <th>3</th>\n",
       "      <td>Not loud enough</td>\n",
       "      <td>2</td>\n",
       "      <td>These are probably suited for bedroom use and not anything more. The bass kept cutting out with the highs and mids at times also doing the same. Not great at all - I opted for KrK’s instead!</td>\n",
       "      <td>4</td>\n",
       "      <td>4</td>\n",
       "    </tr>\n",
       "    <tr>\n",
       "      <th>4</th>\n",
       "      <td>Faulty</td>\n",
       "      <td>1</td>\n",
       "      <td>Passive speaker won't connect to the main speaker.. Faulty\\nVery disappointed</td>\n",
       "      <td>5</td>\n",
       "      <td>5</td>\n",
       "    </tr>\n",
       "    <tr>\n",
       "      <th>5</th>\n",
       "      <td>Brilliant monitor speakers for DJ'ing</td>\n",
       "      <td>5</td>\n",
       "      <td>Absolutely love these speakers - perfect for DJ'ing at home and loud enough for a little boogie with the kids. Sound quality is great and I'm glad I did my research ahead of time. Build quality is really good, the volume pot is nice and smooth.\\n\\nThese would be great for home music production or for gaming.\\n\\nWell worth the investment.</td>\n",
       "      <td>6</td>\n",
       "      <td>6</td>\n",
       "    </tr>\n",
       "    <tr>\n",
       "      <th>6</th>\n",
       "      <td>very good but not as good as the harman kardon soundticks</td>\n",
       "      <td>4</td>\n",
       "      <td>very good but not as good as the harman kardon soundticks\\n\\nthough these are smaller overall</td>\n",
       "      <td>7</td>\n",
       "      <td>7</td>\n",
       "    </tr>\n",
       "    <tr>\n",
       "      <th>7</th>\n",
       "      <td>Crackling sound when connected to bluetooth</td>\n",
       "      <td>1</td>\n",
       "      <td>I’d like to preface this review by saying I tried 2 different sets of these speakers (both the bluetooth version), brand new, and both had the EXACT same issue, so must be a model issue rather than a one-off problem.\\n\\nThe first pair I bought had a constant crackling/buzzing noise coming from the passive speaker when connected to bluetooth. The noise disappeared when disconnected from bluetooth, but appeared instantly when connected. It was audible at low volumes which ruined the listening experi</td>\n",
       "      <td>8</td>\n",
       "      <td>8</td>\n",
       "    </tr>\n",
       "    <tr>\n",
       "      <th>8</th>\n",
       "      <td>These broke after 2 years</td>\n",
       "      <td>1</td>\n",
       "      <td>My speakers broke after a couple of years - useless the amp went inside.</td>\n",
       "      <td>9</td>\n",
       "      <td>9</td>\n",
       "    </tr>\n",
       "    <tr>\n",
       "      <th>9</th>\n",
       "      <td>impressive sound quality!</td>\n",
       "      <td>5</td>\n",
       "      <td>bought a pair of these for my daughter, so good I kept them and ordered another pair :-)</td>\n",
       "      <td>10</td>\n",
       "      <td>10</td>\n",
       "    </tr>\n",
       "  </tbody>\n",
       "</table>\n",
       "</div>"
      ],
      "text/plain": [
       "                                                       Title  Rating  \\\n",
       "0                                               Its a beuaty       5   \n",
       "1                               Perfect upgrade for PC Audio       5   \n",
       "2                                         Wonderful monitors       5   \n",
       "3                                            Not loud enough       2   \n",
       "4                                                     Faulty       1   \n",
       "5                      Brilliant monitor speakers for DJ'ing       5   \n",
       "6  very good but not as good as the harman kardon soundticks       4   \n",
       "7                Crackling sound when connected to bluetooth       1   \n",
       "8                                  These broke after 2 years       1   \n",
       "9                                  impressive sound quality!       5   \n",
       "\n",
       "                                                                                                                                                                                                                                                                                                                                                                                                                                                                                                                    Content  \\\n",
       "0                                                                                                                                                                                                                                                                                                                                                                                                                                                                                          Love its compact shape and sound   \n",
       "1                                                                                                                                                                                                                                                                                                                                                                                                               If you ruining cheap PC Speakers those will blow your mind. Clean sound, small frame, good value for money.   \n",
       "2  It's been some years since using any monitors as I use DT770 250's for all my audio work and wow, I'm so pleased I added these to my studio.\\n\\nFirst the sound.\\n\\nThe sound is quite flat which is good as you can accurately EQ your sound. The bass is \"even\", meaning that it's there but it's not exaggerated. The mids are very well balanced (they sound great) and the high end is also fairly well balanced and you can get some nice air and snap when EQing. For those that have the Bayer Dynamic DT770 250   \n",
       "3                                                                                                                                                                                                                                                                                                                            These are probably suited for bedroom use and not anything more. The bass kept cutting out with the highs and mids at times also doing the same. Not great at all - I opted for KrK’s instead!   \n",
       "4                                                                                                                                                                                                                                                                                                                                                                                                                                             Passive speaker won't connect to the main speaker.. Faulty\\nVery disappointed   \n",
       "5                                                                                                                                                                       Absolutely love these speakers - perfect for DJ'ing at home and loud enough for a little boogie with the kids. Sound quality is great and I'm glad I did my research ahead of time. Build quality is really good, the volume pot is nice and smooth.\\n\\nThese would be great for home music production or for gaming.\\n\\nWell worth the investment.   \n",
       "6                                                                                                                                                                                                                                                                                                                                                                                                                             very good but not as good as the harman kardon soundticks\\n\\nthough these are smaller overall   \n",
       "7    I’d like to preface this review by saying I tried 2 different sets of these speakers (both the bluetooth version), brand new, and both had the EXACT same issue, so must be a model issue rather than a one-off problem.\\n\\nThe first pair I bought had a constant crackling/buzzing noise coming from the passive speaker when connected to bluetooth. The noise disappeared when disconnected from bluetooth, but appeared instantly when connected. It was audible at low volumes which ruined the listening experi   \n",
       "8                                                                                                                                                                                                                                                                                                                                                                                                                                                  My speakers broke after a couple of years - useless the amp went inside.   \n",
       "9                                                                                                                                                                                                                                                                                                                                                                                                                                  bought a pair of these for my daughter, so good I kept them and ordered another pair :-)   \n",
       "\n",
       "   id  Id  \n",
       "0   1   1  \n",
       "1   2   2  \n",
       "2   3   3  \n",
       "3   4   4  \n",
       "4   5   5  \n",
       "5   6   6  \n",
       "6   7   7  \n",
       "7   8   8  \n",
       "8   9   9  \n",
       "9  10  10  "
      ]
     },
     "execution_count": 146,
     "metadata": {},
     "output_type": "execute_result"
    }
   ],
   "source": [
    "reviews.head(10)"
   ]
  },
  {
   "attachments": {},
   "cell_type": "markdown",
   "metadata": {},
   "source": [
    "Finally we end up with the pandas DataFrame with 738 reviews, all with title, rating and comment. \n",
    "\n",
    "There could be some missing comments: let's check."
   ]
  },
  {
   "cell_type": "code",
   "execution_count": 49,
   "metadata": {},
   "outputs": [
    {
     "data": {
      "text/html": [
       "<div>\n",
       "<style scoped>\n",
       "    .dataframe tbody tr th:only-of-type {\n",
       "        vertical-align: middle;\n",
       "    }\n",
       "\n",
       "    .dataframe tbody tr th {\n",
       "        vertical-align: top;\n",
       "    }\n",
       "\n",
       "    .dataframe thead th {\n",
       "        text-align: right;\n",
       "    }\n",
       "</style>\n",
       "<table border=\"1\" class=\"dataframe\">\n",
       "  <thead>\n",
       "    <tr style=\"text-align: right;\">\n",
       "      <th></th>\n",
       "      <th>Title</th>\n",
       "      <th>Rating</th>\n",
       "      <th>Content</th>\n",
       "    </tr>\n",
       "  </thead>\n",
       "  <tbody>\n",
       "    <tr>\n",
       "      <th>10</th>\n",
       "      <td>Great deal.</td>\n",
       "      <td>5</td>\n",
       "      <td></td>\n",
       "    </tr>\n",
       "    <tr>\n",
       "      <th>51</th>\n",
       "      <td>Impressive</td>\n",
       "      <td>5</td>\n",
       "      <td></td>\n",
       "    </tr>\n",
       "    <tr>\n",
       "      <th>76</th>\n",
       "      <td>Loud, and very clear audio</td>\n",
       "      <td>5</td>\n",
       "      <td></td>\n",
       "    </tr>\n",
       "    <tr>\n",
       "      <th>165</th>\n",
       "      <td>Awesome! General balanced sound!</td>\n",
       "      <td>5</td>\n",
       "      <td></td>\n",
       "    </tr>\n",
       "    <tr>\n",
       "      <th>289</th>\n",
       "      <td>great job presonus</td>\n",
       "      <td>5</td>\n",
       "      <td></td>\n",
       "    </tr>\n",
       "    <tr>\n",
       "      <th>294</th>\n",
       "      <td>Amazing</td>\n",
       "      <td>5</td>\n",
       "      <td></td>\n",
       "    </tr>\n",
       "    <tr>\n",
       "      <th>385</th>\n",
       "      <td>The best speakers I have ever owned</td>\n",
       "      <td>5</td>\n",
       "      <td></td>\n",
       "    </tr>\n",
       "    <tr>\n",
       "      <th>561</th>\n",
       "      <td>Amazing Sound. Best I have ever heard</td>\n",
       "      <td>5</td>\n",
       "      <td></td>\n",
       "    </tr>\n",
       "    <tr>\n",
       "      <th>599</th>\n",
       "      <td>Good quality</td>\n",
       "      <td>3</td>\n",
       "      <td></td>\n",
       "    </tr>\n",
       "  </tbody>\n",
       "</table>\n",
       "</div>"
      ],
      "text/plain": [
       "                                     Title  Rating Content\n",
       "10                             Great deal.       5        \n",
       "51                              Impressive       5        \n",
       "76              Loud, and very clear audio       5        \n",
       "165       Awesome! General balanced sound!       5        \n",
       "289                     great job presonus       5        \n",
       "294                                Amazing       5        \n",
       "385    The best speakers I have ever owned       5        \n",
       "561  Amazing Sound. Best I have ever heard       5        \n",
       "599                           Good quality       3        "
      ]
     },
     "execution_count": 49,
     "metadata": {},
     "output_type": "execute_result"
    }
   ],
   "source": [
    "reviews[reviews['Content'].str.len() == 0]"
   ]
  },
  {
   "attachments": {},
   "cell_type": "markdown",
   "metadata": {},
   "source": [
    "We have some missing contents, but we can draw some insights thanks to the title and the rating!"
   ]
  },
  {
   "cell_type": "code",
   "execution_count": 53,
   "metadata": {},
   "outputs": [
    {
     "data": {
      "text/plain": [
       "(Empty DataFrame\n",
       " Columns: [Title, Rating, Content]\n",
       " Index: [],\n",
       " Empty DataFrame\n",
       " Columns: [Title, Rating, Content]\n",
       " Index: [])"
      ]
     },
     "execution_count": 53,
     "metadata": {},
     "output_type": "execute_result"
    }
   ],
   "source": [
    "reviews[reviews['Rating'] == \"\"], reviews[reviews['Title'] == \"\"]"
   ]
  },
  {
   "attachments": {},
   "cell_type": "markdown",
   "metadata": {},
   "source": [
    "Looks like the scraping was done properly: we have 0 missing values for all the columns."
   ]
  },
  {
   "attachments": {},
   "cell_type": "markdown",
   "metadata": {},
   "source": [
    "### QUick EDA"
   ]
  },
  {
   "cell_type": "code",
   "execution_count": 56,
   "metadata": {},
   "outputs": [
    {
     "data": {
      "text/html": [
       "<div>\n",
       "<style scoped>\n",
       "    .dataframe tbody tr th:only-of-type {\n",
       "        vertical-align: middle;\n",
       "    }\n",
       "\n",
       "    .dataframe tbody tr th {\n",
       "        vertical-align: top;\n",
       "    }\n",
       "\n",
       "    .dataframe thead th {\n",
       "        text-align: right;\n",
       "    }\n",
       "</style>\n",
       "<table border=\"1\" class=\"dataframe\">\n",
       "  <thead>\n",
       "    <tr style=\"text-align: right;\">\n",
       "      <th></th>\n",
       "      <th>Rating</th>\n",
       "    </tr>\n",
       "  </thead>\n",
       "  <tbody>\n",
       "    <tr>\n",
       "      <th>count</th>\n",
       "      <td>738.000000</td>\n",
       "    </tr>\n",
       "    <tr>\n",
       "      <th>mean</th>\n",
       "      <td>4.479675</td>\n",
       "    </tr>\n",
       "    <tr>\n",
       "      <th>std</th>\n",
       "      <td>1.101495</td>\n",
       "    </tr>\n",
       "    <tr>\n",
       "      <th>min</th>\n",
       "      <td>1.000000</td>\n",
       "    </tr>\n",
       "    <tr>\n",
       "      <th>25%</th>\n",
       "      <td>5.000000</td>\n",
       "    </tr>\n",
       "    <tr>\n",
       "      <th>50%</th>\n",
       "      <td>5.000000</td>\n",
       "    </tr>\n",
       "    <tr>\n",
       "      <th>75%</th>\n",
       "      <td>5.000000</td>\n",
       "    </tr>\n",
       "    <tr>\n",
       "      <th>max</th>\n",
       "      <td>5.000000</td>\n",
       "    </tr>\n",
       "  </tbody>\n",
       "</table>\n",
       "</div>"
      ],
      "text/plain": [
       "           Rating\n",
       "count  738.000000\n",
       "mean     4.479675\n",
       "std      1.101495\n",
       "min      1.000000\n",
       "25%      5.000000\n",
       "50%      5.000000\n",
       "75%      5.000000\n",
       "max      5.000000"
      ]
     },
     "execution_count": 56,
     "metadata": {},
     "output_type": "execute_result"
    }
   ],
   "source": [
    "reviews.describe()"
   ]
  },
  {
   "cell_type": "code",
   "execution_count": 66,
   "metadata": {},
   "outputs": [
    {
     "data": {
      "image/png": "[encoded data removed]",
      "text/plain": [
       "<Figure size 800x500 with 1 Axes>"
      ]
     },
     "metadata": {},
     "output_type": "display_data"
    }
   ],
   "source": [
    "ax = reviews['Rating'].value_counts().sort_index().plot(kind='bar', title='Count of reviews by Rating', figsize=(8,5))\n",
    "ax.set_xlabel('Review rating')\n",
    "plt.show()"
   ]
  },
  {
   "attachments": {},
   "cell_type": "markdown",
   "metadata": {},
   "source": [
    "Very biased towards positive reviews. That's good to know."
   ]
  },
  {
   "attachments": {},
   "cell_type": "markdown",
   "metadata": {},
   "source": [
    "#### NLTK"
   ]
  },
  {
   "cell_type": "code",
   "execution_count": 109,
   "metadata": {},
   "outputs": [
    {
     "name": "stderr",
     "output_type": "stream",
     "text": [
      "[nltk_data] Downloading package vader_lexicon to\n",
      "[nltk_data]     C:\\Users\\david\\AppData\\Roaming\\nltk_data...\n",
      "[nltk_data]   Package vader_lexicon is already up-to-date!\n",
      "[nltk_data] Downloading package punkt to\n",
      "[nltk_data]     C:\\Users\\david\\AppData\\Roaming\\nltk_data...\n",
      "[nltk_data]   Package punkt is already up-to-date!\n",
      "[nltk_data] Downloading package averaged_perceptron_tagger to\n",
      "[nltk_data]     C:\\Users\\david\\AppData\\Roaming\\nltk_data...\n",
      "[nltk_data]   Package averaged_perceptron_tagger is already up-to-\n",
      "[nltk_data]       date!\n",
      "[nltk_data] Downloading package maxent_ne_chunker to\n",
      "[nltk_data]     C:\\Users\\david\\AppData\\Roaming\\nltk_data...\n",
      "[nltk_data]   Unzipping chunkers\\maxent_ne_chunker.zip.\n",
      "[nltk_data] Downloading package words to\n",
      "[nltk_data]     C:\\Users\\david\\AppData\\Roaming\\nltk_data...\n",
      "[nltk_data]   Unzipping corpora\\words.zip.\n"
     ]
    },
    {
     "data": {
      "text/plain": [
       "True"
      ]
     },
     "execution_count": 109,
     "metadata": {},
     "output_type": "execute_result"
    }
   ],
   "source": [
    "import nltk\n",
    "nltk.download('vader_lexicon')\n",
    "nltk.download('punkt')\n",
    "nltk.download('averaged_perceptron_tagger')\n",
    "nltk.download('maxent_ne_chunker')\n",
    "nltk.download('words')"
   ]
  },
  {
   "cell_type": "code",
   "execution_count": 101,
   "metadata": {},
   "outputs": [
    {
     "data": {
      "text/plain": [
       "\"Passive speaker won't connect to the main speaker.. Faulty\\nVery disappointed\""
      ]
     },
     "execution_count": 101,
     "metadata": {},
     "output_type": "execute_result"
    }
   ],
   "source": [
    "example = reviews['Content'][4]\n",
    "example"
   ]
  },
  {
   "cell_type": "code",
   "execution_count": 111,
   "metadata": {},
   "outputs": [
    {
     "data": {
      "text/plain": [
       "['Passive',\n",
       " 'speaker',\n",
       " 'wo',\n",
       " \"n't\",\n",
       " 'connect',\n",
       " 'to',\n",
       " 'the',\n",
       " 'main',\n",
       " 'speaker',\n",
       " '..',\n",
       " 'Faulty',\n",
       " 'Very',\n",
       " 'disappointed']"
      ]
     },
     "execution_count": 111,
     "metadata": {},
     "output_type": "execute_result"
    }
   ],
   "source": [
    "tokens = nltk.word_tokenize(example)\n",
    "tokens"
   ]
  },
  {
   "attachments": {},
   "cell_type": "markdown",
   "metadata": {},
   "source": [
    "Tokenized result: basically beginning to convert a sentence into a format which is understable by the computer. As we can see nltk is smart because it detects the won't word and splits it into 'wo' and \"n't\"."
   ]
  },
  {
   "attachments": {},
   "cell_type": "markdown",
   "metadata": {},
   "source": [
    "Now find the part of speech for each of these words:"
   ]
  },
  {
   "cell_type": "code",
   "execution_count": 112,
   "metadata": {},
   "outputs": [
    {
     "data": {
      "text/plain": [
       "[('Passive', 'JJ'),\n",
       " ('speaker', 'NN'),\n",
       " ('wo', 'MD'),\n",
       " (\"n't\", 'RB'),\n",
       " ('connect', 'VB'),\n",
       " ('to', 'TO'),\n",
       " ('the', 'DT'),\n",
       " ('main', 'JJ'),\n",
       " ('speaker', 'NN'),\n",
       " ('..', 'NNP'),\n",
       " ('Faulty', 'NNP'),\n",
       " ('Very', 'RB'),\n",
       " ('disappointed', 'VBD')]"
      ]
     },
     "execution_count": 112,
     "metadata": {},
     "output_type": "execute_result"
    }
   ],
   "source": [
    "tag = nltk.pos_tag(tokens)\n",
    "tag"
   ]
  },
  {
   "attachments": {},
   "cell_type": "markdown",
   "metadata": {},
   "source": [
    "Whta is the meaning od these tags? Add link"
   ]
  },
  {
   "attachments": {},
   "cell_type": "markdown",
   "metadata": {},
   "source": [
    "Put these tags part of speech and put them into entities."
   ]
  },
  {
   "cell_type": "code",
   "execution_count": 114,
   "metadata": {},
   "outputs": [
    {
     "name": "stdout",
     "output_type": "stream",
     "text": [
      "(S\n",
      "  (GPE Passive/JJ)\n",
      "  speaker/NN\n",
      "  wo/MD\n",
      "  n't/RB\n",
      "  connect/VB\n",
      "  to/TO\n",
      "  the/DT\n",
      "  main/JJ\n",
      "  speaker/NN\n",
      "  ../NNP\n",
      "  Faulty/NNP\n",
      "  Very/RB\n",
      "  disappointed/VBD)\n"
     ]
    }
   ],
   "source": [
    "entities = nltk.chunk.ne_chunk(tag)\n",
    "entities.pprint()       # pretty print"
   ]
  },
  {
   "attachments": {},
   "cell_type": "markdown",
   "metadata": {},
   "source": [
    "----"
   ]
  },
  {
   "attachments": {},
   "cell_type": "markdown",
   "metadata": {},
   "source": [
    "### VADER\n"
   ]
  },
  {
   "cell_type": "code",
   "execution_count": 95,
   "metadata": {},
   "outputs": [],
   "source": [
    "from nltk.sentiment import SentimentIntensityAnalyzer\n",
    "from tqdm.notebook import tqdm\n",
    "\n",
    "sia = SentimentIntensityAnalyzer()"
   ]
  },
  {
   "cell_type": "code",
   "execution_count": 115,
   "metadata": {},
   "outputs": [
    {
     "data": {
      "text/plain": [
       "<nltk.sentiment.vader.SentimentIntensityAnalyzer at 0x13694623220>"
      ]
     },
     "execution_count": 115,
     "metadata": {},
     "output_type": "execute_result"
    }
   ],
   "source": [
    "sia"
   ]
  },
  {
   "cell_type": "code",
   "execution_count": 117,
   "metadata": {},
   "outputs": [
    {
     "data": {
      "text/plain": [
       "{'neg': 0.0, 'neu': 0.318, 'pos': 0.682, 'compound': 0.6468}"
      ]
     },
     "execution_count": 117,
     "metadata": {},
     "output_type": "execute_result"
    }
   ],
   "source": [
    "sia.polarity_scores('I am so happy!')"
   ]
  },
  {
   "attachments": {},
   "cell_type": "markdown",
   "metadata": {},
   "source": [
    "Compound is an aggregation of the 3, goes from -1 to 1."
   ]
  },
  {
   "cell_type": "code",
   "execution_count": 122,
   "metadata": {},
   "outputs": [
    {
     "data": {
      "text/plain": [
       "{'neg': 0.451, 'neu': 0.549, 'pos': 0.0, 'compound': -0.6249}"
      ]
     },
     "execution_count": 122,
     "metadata": {},
     "output_type": "execute_result"
    }
   ],
   "source": [
    "sia.polarity_scores('This is the worst thing ever.')"
   ]
  },
  {
   "cell_type": "code",
   "execution_count": 126,
   "metadata": {},
   "outputs": [
    {
     "name": "stdout",
     "output_type": "stream",
     "text": [
      "Passive speaker won't connect to the main speaker.. Faulty\n",
      "Very disappointed\n",
      "{'neg': 0.367, 'neu': 0.516, 'pos': 0.116, 'compound': -0.5984}\n"
     ]
    }
   ],
   "source": [
    "print(example)\n",
    "print(sia.polarity_scores(example))"
   ]
  },
  {
   "cell_type": "code",
   "execution_count": 139,
   "metadata": {},
   "outputs": [
    {
     "data": {
      "application/vnd.jupyter.widget-view+json": {
       "model_id": "ec8bcb43751b47359a6dabdee4f878e9",
       "version_major": 2,
       "version_minor": 0
      },
      "text/plain": [
       "  0%|          | 0/738 [00:00<?, ?it/s]"
      ]
     },
     "metadata": {},
     "output_type": "display_data"
    }
   ],
   "source": [
    "# run on entire dataset\n",
    "results = {}\n",
    "for i, row in tqdm(reviews.iterrows(), total = len(reviews)):\n",
    "    text = row['Content']\n",
    "    id = row['id']\n",
    "    results[id] = sia.polarity_scores(text)"
   ]
  },
  {
   "cell_type": "code",
   "execution_count": 154,
   "metadata": {},
   "outputs": [
    {
     "data": {
      "text/html": [
       "<div>\n",
       "<style scoped>\n",
       "    .dataframe tbody tr th:only-of-type {\n",
       "        vertical-align: middle;\n",
       "    }\n",
       "\n",
       "    .dataframe tbody tr th {\n",
       "        vertical-align: top;\n",
       "    }\n",
       "\n",
       "    .dataframe thead th {\n",
       "        text-align: right;\n",
       "    }\n",
       "</style>\n",
       "<table border=\"1\" class=\"dataframe\">\n",
       "  <thead>\n",
       "    <tr style=\"text-align: right;\">\n",
       "      <th></th>\n",
       "      <th>Id</th>\n",
       "      <th>neg</th>\n",
       "      <th>neu</th>\n",
       "      <th>pos</th>\n",
       "      <th>compound</th>\n",
       "      <th>Title</th>\n",
       "      <th>Rating</th>\n",
       "      <th>Content</th>\n",
       "      <th>id</th>\n",
       "    </tr>\n",
       "  </thead>\n",
       "  <tbody>\n",
       "    <tr>\n",
       "      <th>0</th>\n",
       "      <td>1</td>\n",
       "      <td>0.000</td>\n",
       "      <td>0.543</td>\n",
       "      <td>0.457</td>\n",
       "      <td>0.6369</td>\n",
       "      <td>Its a beuaty</td>\n",
       "      <td>5</td>\n",
       "      <td>Love its compact shape and sound</td>\n",
       "      <td>1</td>\n",
       "    </tr>\n",
       "    <tr>\n",
       "      <th>1</th>\n",
       "      <td>2</td>\n",
       "      <td>0.080</td>\n",
       "      <td>0.600</td>\n",
       "      <td>0.320</td>\n",
       "      <td>0.7184</td>\n",
       "      <td>Perfect upgrade for PC Audio</td>\n",
       "      <td>5</td>\n",
       "      <td>If you ruining cheap PC Speakers those will blow your mind. Clean sound, small frame, good value for money.</td>\n",
       "      <td>2</td>\n",
       "    </tr>\n",
       "    <tr>\n",
       "      <th>2</th>\n",
       "      <td>3</td>\n",
       "      <td>0.000</td>\n",
       "      <td>0.804</td>\n",
       "      <td>0.196</td>\n",
       "      <td>0.9594</td>\n",
       "      <td>Wonderful monitors</td>\n",
       "      <td>5</td>\n",
       "      <td>It's been some years since using any monitors as I use DT770 250's for all my audio work and wow, I'm so pleased I added these to my studio.\\n\\nFirst the sound.\\n\\nThe sound is quite flat which is good as you can accurately EQ your sound. The bass is \"even\", meaning that it's there but it's not exaggerated. The mids are very well balanced (they sound great) and the high end is also fairly well balanced and you can get some nice air and snap when EQing. For those that have the Bayer Dynamic DT770 250</td>\n",
       "      <td>3</td>\n",
       "    </tr>\n",
       "    <tr>\n",
       "      <th>3</th>\n",
       "      <td>4</td>\n",
       "      <td>0.134</td>\n",
       "      <td>0.866</td>\n",
       "      <td>0.000</td>\n",
       "      <td>-0.6232</td>\n",
       "      <td>Not loud enough</td>\n",
       "      <td>2</td>\n",
       "      <td>These are probably suited for bedroom use and not anything more. The bass kept cutting out with the highs and mids at times also doing the same. Not great at all - I opted for KrK’s instead!</td>\n",
       "      <td>4</td>\n",
       "    </tr>\n",
       "    <tr>\n",
       "      <th>4</th>\n",
       "      <td>5</td>\n",
       "      <td>0.367</td>\n",
       "      <td>0.516</td>\n",
       "      <td>0.116</td>\n",
       "      <td>-0.5984</td>\n",
       "      <td>Faulty</td>\n",
       "      <td>1</td>\n",
       "      <td>Passive speaker won't connect to the main speaker.. Faulty\\nVery disappointed</td>\n",
       "      <td>5</td>\n",
       "    </tr>\n",
       "  </tbody>\n",
       "</table>\n",
       "</div>"
      ],
      "text/plain": [
       "   Id    neg    neu    pos  compound                         Title  Rating  \\\n",
       "0   1  0.000  0.543  0.457    0.6369                  Its a beuaty       5   \n",
       "1   2  0.080  0.600  0.320    0.7184  Perfect upgrade for PC Audio       5   \n",
       "2   3  0.000  0.804  0.196    0.9594            Wonderful monitors       5   \n",
       "3   4  0.134  0.866  0.000   -0.6232               Not loud enough       2   \n",
       "4   5  0.367  0.516  0.116   -0.5984                        Faulty       1   \n",
       "\n",
       "                                                                                                                                                                                                                                                                                                                                                                                                                                                                                                                    Content  \\\n",
       "0                                                                                                                                                                                                                                                                                                                                                                                                                                                                                          Love its compact shape and sound   \n",
       "1                                                                                                                                                                                                                                                                                                                                                                                                               If you ruining cheap PC Speakers those will blow your mind. Clean sound, small frame, good value for money.   \n",
       "2  It's been some years since using any monitors as I use DT770 250's for all my audio work and wow, I'm so pleased I added these to my studio.\\n\\nFirst the sound.\\n\\nThe sound is quite flat which is good as you can accurately EQ your sound. The bass is \"even\", meaning that it's there but it's not exaggerated. The mids are very well balanced (they sound great) and the high end is also fairly well balanced and you can get some nice air and snap when EQing. For those that have the Bayer Dynamic DT770 250   \n",
       "3                                                                                                                                                                                                                                                                                                                            These are probably suited for bedroom use and not anything more. The bass kept cutting out with the highs and mids at times also doing the same. Not great at all - I opted for KrK’s instead!   \n",
       "4                                                                                                                                                                                                                                                                                                                                                                                                                                             Passive speaker won't connect to the main speaker.. Faulty\\nVery disappointed   \n",
       "\n",
       "   id  \n",
       "0   1  \n",
       "1   2  \n",
       "2   3  \n",
       "3   4  \n",
       "4   5  "
      ]
     },
     "execution_count": 154,
     "metadata": {},
     "output_type": "execute_result"
    }
   ],
   "source": [
    "vaders = pd.DataFrame(results).T\n",
    "vaders = vaders.reset_index().rename(columns={'index': 'Id'})\n",
    "vaders = vaders.merge(reviews, how='left')\n",
    "vaders.head()"
   ]
  },
  {
   "attachments": {},
   "cell_type": "markdown",
   "metadata": {},
   "source": [
    "Is this in line with what we expect? If the rating is 5-4, is the rating positive?"
   ]
  },
  {
   "cell_type": "code",
   "execution_count": 155,
   "metadata": {},
   "outputs": [
    {
     "data": {
      "image/png": "[encoded data removed]",
      "text/plain": [
       "<Figure size 640x480 with 1 Axes>"
      ]
     },
     "metadata": {},
     "output_type": "display_data"
    }
   ],
   "source": [
    "ax = sns.barplot(data=vaders, x='Rating', y='compound')\n",
    "ax.set_title('Compound score by Rating')\n",
    "plt.show()"
   ]
  },
  {
   "attachments": {},
   "cell_type": "markdown",
   "metadata": {},
   "source": [
    "It is what we would expect!"
   ]
  },
  {
   "cell_type": "code",
   "execution_count": 166,
   "metadata": {},
   "outputs": [
    {
     "data": {
      "image/png": "[encoded data removed]",
      "text/plain": [
       "<Figure size 1500x500 with 3 Axes>"
      ]
     },
     "metadata": {},
     "output_type": "display_data"
    }
   ],
   "source": [
    "fig, axs = plt.subplots(1, 3, figsize=(15,5))\n",
    "sns.barplot(data = vaders, x='Rating', y='pos', ax = axs[0])\n",
    "sns.barplot(data = vaders, x='Rating', y='neu', ax = axs[1])\n",
    "sns.barplot(data = vaders, x='Rating', y='neg', ax = axs[2])\n",
    "axs[0].set_title('Positive')\n",
    "axs[1].set_title('Neutral')\n",
    "axs[2].set_title('Negative')\n",
    "plt.tight_layout()\n",
    "plt.show()"
   ]
  },
  {
   "attachments": {},
   "cell_type": "markdown",
   "metadata": {},
   "source": [
    "### RoBERTa"
   ]
  },
  {
   "attachments": {},
   "cell_type": "markdown",
   "metadata": {},
   "source": [
    "### The Transformers Pipeline"
   ]
  },
  {
   "cell_type": "code",
   "execution_count": 172,
   "metadata": {},
   "outputs": [
    {
     "name": "stderr",
     "output_type": "stream",
     "text": [
      "No model was supplied, defaulted to distilbert-base-uncased-finetuned-sst-2-english and revision af0f99b (https://huggingface.co/distilbert-base-uncased-finetuned-sst-2-english).\n",
      "Using a pipeline without specifying a model name and revision in production is not recommended.\n"
     ]
    },
    {
     "data": {
      "application/vnd.jupyter.widget-view+json": {
       "model_id": "147cd217b58740b38a3c1937f21f288d",
       "version_major": 2,
       "version_minor": 0
      },
      "text/plain": [
       "Downloading (…)lve/main/config.json:   0%|          | 0.00/629 [00:00<?, ?B/s]"
      ]
     },
     "metadata": {},
     "output_type": "display_data"
    },
    {
     "ename": "RuntimeError",
     "evalue": "At least one of TensorFlow 2.0 or PyTorch should be installed. To install TensorFlow 2.0, read the instructions at https://www.tensorflow.org/install/ To install PyTorch, read the instructions at https://pytorch.org/.",
     "output_type": "error",
     "traceback": [
      "\u001b[1;31m---------------------------------------------------------------------------\u001b[0m",
      "\u001b[1;31mRuntimeError\u001b[0m                              Traceback (most recent call last)",
      "Cell \u001b[1;32mIn[172], line 3\u001b[0m\n\u001b[0;32m      1\u001b[0m \u001b[39mfrom\u001b[39;00m \u001b[39mtransformers\u001b[39;00m \u001b[39mimport\u001b[39;00m pipeline\n\u001b[1;32m----> 3\u001b[0m sent_pipeline \u001b[39m=\u001b[39m pipeline(\u001b[39m\"\u001b[39;49m\u001b[39msentiment-analysis\u001b[39;49m\u001b[39m\"\u001b[39;49m)\n",
      "File \u001b[1;32m~\\AppData\\Local\\Packages\\PythonSoftwareFoundation.Python.3.10_qbz5n2kfra8p0\\LocalCache\\local-packages\\Python310\\site-packages\\transformers\\pipelines\\__init__.py:788\u001b[0m, in \u001b[0;36mpipeline\u001b[1;34m(task, model, config, tokenizer, feature_extractor, image_processor, framework, revision, use_fast, use_auth_token, device, device_map, torch_dtype, trust_remote_code, model_kwargs, pipeline_class, **kwargs)\u001b[0m\n\u001b[0;32m    784\u001b[0m \u001b[39m# Infer the framework from the model\u001b[39;00m\n\u001b[0;32m    785\u001b[0m \u001b[39m# Forced if framework already defined, inferred if it's None\u001b[39;00m\n\u001b[0;32m    786\u001b[0m \u001b[39m# Will load the correct model if possible\u001b[39;00m\n\u001b[0;32m    787\u001b[0m model_classes \u001b[39m=\u001b[39m {\u001b[39m\"\u001b[39m\u001b[39mtf\u001b[39m\u001b[39m\"\u001b[39m: targeted_task[\u001b[39m\"\u001b[39m\u001b[39mtf\u001b[39m\u001b[39m\"\u001b[39m], \u001b[39m\"\u001b[39m\u001b[39mpt\u001b[39m\u001b[39m\"\u001b[39m: targeted_task[\u001b[39m\"\u001b[39m\u001b[39mpt\u001b[39m\u001b[39m\"\u001b[39m]}\n\u001b[1;32m--> 788\u001b[0m framework, model \u001b[39m=\u001b[39m infer_framework_load_model(\n\u001b[0;32m    789\u001b[0m     model,\n\u001b[0;32m    790\u001b[0m     model_classes\u001b[39m=\u001b[39mmodel_classes,\n\u001b[0;32m    791\u001b[0m     config\u001b[39m=\u001b[39mconfig,\n\u001b[0;32m    792\u001b[0m     framework\u001b[39m=\u001b[39mframework,\n\u001b[0;32m    793\u001b[0m     task\u001b[39m=\u001b[39mtask,\n\u001b[0;32m    794\u001b[0m     \u001b[39m*\u001b[39m\u001b[39m*\u001b[39mhub_kwargs,\n\u001b[0;32m    795\u001b[0m     \u001b[39m*\u001b[39m\u001b[39m*\u001b[39mmodel_kwargs,\n\u001b[0;32m    796\u001b[0m )\n\u001b[0;32m    798\u001b[0m model_config \u001b[39m=\u001b[39m model\u001b[39m.\u001b[39mconfig\n\u001b[0;32m    799\u001b[0m hub_kwargs[\u001b[39m\"\u001b[39m\u001b[39m_commit_hash\u001b[39m\u001b[39m\"\u001b[39m] \u001b[39m=\u001b[39m model\u001b[39m.\u001b[39mconfig\u001b[39m.\u001b[39m_commit_hash\n",
      "File \u001b[1;32m~\\AppData\\Local\\Packages\\PythonSoftwareFoundation.Python.3.10_qbz5n2kfra8p0\\LocalCache\\local-packages\\Python310\\site-packages\\transformers\\pipelines\\base.py:222\u001b[0m, in \u001b[0;36minfer_framework_load_model\u001b[1;34m(model, config, model_classes, task, framework, **model_kwargs)\u001b[0m\n\u001b[0;32m    196\u001b[0m \u001b[39m\"\"\"\u001b[39;00m\n\u001b[0;32m    197\u001b[0m \u001b[39mSelect framework (TensorFlow or PyTorch) to use from the `model` passed. Returns a tuple (framework, model).\u001b[39;00m\n\u001b[0;32m    198\u001b[0m \n\u001b[1;32m   (...)\u001b[0m\n\u001b[0;32m    219\u001b[0m \u001b[39m    `Tuple`: A tuple framework, model.\u001b[39;00m\n\u001b[0;32m    220\u001b[0m \u001b[39m\"\"\"\u001b[39;00m\n\u001b[0;32m    221\u001b[0m \u001b[39mif\u001b[39;00m \u001b[39mnot\u001b[39;00m is_tf_available() \u001b[39mand\u001b[39;00m \u001b[39mnot\u001b[39;00m is_torch_available():\n\u001b[1;32m--> 222\u001b[0m     \u001b[39mraise\u001b[39;00m \u001b[39mRuntimeError\u001b[39;00m(\n\u001b[0;32m    223\u001b[0m         \u001b[39m\"\u001b[39m\u001b[39mAt least one of TensorFlow 2.0 or PyTorch should be installed. \u001b[39m\u001b[39m\"\u001b[39m\n\u001b[0;32m    224\u001b[0m         \u001b[39m\"\u001b[39m\u001b[39mTo install TensorFlow 2.0, read the instructions at https://www.tensorflow.org/install/ \u001b[39m\u001b[39m\"\u001b[39m\n\u001b[0;32m    225\u001b[0m         \u001b[39m\"\u001b[39m\u001b[39mTo install PyTorch, read the instructions at https://pytorch.org/.\u001b[39m\u001b[39m\"\u001b[39m\n\u001b[0;32m    226\u001b[0m     )\n\u001b[0;32m    227\u001b[0m \u001b[39mif\u001b[39;00m \u001b[39misinstance\u001b[39m(model, \u001b[39mstr\u001b[39m):\n\u001b[0;32m    228\u001b[0m     model_kwargs[\u001b[39m\"\u001b[39m\u001b[39m_from_pipeline\u001b[39m\u001b[39m\"\u001b[39m] \u001b[39m=\u001b[39m task\n",
      "\u001b[1;31mRuntimeError\u001b[0m: At least one of TensorFlow 2.0 or PyTorch should be installed. To install TensorFlow 2.0, read the instructions at https://www.tensorflow.org/install/ To install PyTorch, read the instructions at https://pytorch.org/."
     ]
    }
   ],
   "source": [
    "# from transformers import pipeline\n",
    "\n",
    "# sent_pipeline = pipeline(\"sentiment-analysis\")"
   ]
  },
  {
   "cell_type": "code",
   "execution_count": 173,
   "metadata": {},
   "outputs": [
    {
     "ename": "NameError",
     "evalue": "name 'sent_pipeline' is not defined",
     "output_type": "error",
     "traceback": [
      "\u001b[1;31m---------------------------------------------------------------------------\u001b[0m",
      "\u001b[1;31mNameError\u001b[0m                                 Traceback (most recent call last)",
      "Cell \u001b[1;32mIn[173], line 1\u001b[0m\n\u001b[1;32m----> 1\u001b[0m sent_pipeline(\u001b[39m'\u001b[39m\u001b[39mI love sentiment analysis!\u001b[39m\u001b[39m'\u001b[39m)\n",
      "\u001b[1;31mNameError\u001b[0m: name 'sent_pipeline' is not defined"
     ]
    }
   ],
   "source": [
    "sent_pipeline = ('phrase')"
   ]
  }
 ],
 "metadata": {
  "kernelspec": {
   "display_name": "Python 3",
   "language": "python",
   "name": "python3"
  },
  "language_info": {
   "codemirror_mode": {
    "name": "ipython",
    "version": 3
   },
   "file_extension": ".py",
   "mimetype": "text/x-python",
   "name": "python",
   "nbconvert_exporter": "python",
   "pygments_lexer": "ipython3",
   "version": "3.10.11"
  },
  "orig_nbformat": 4
 },
 "nbformat": 4,
 "nbformat_minor": 2
}
