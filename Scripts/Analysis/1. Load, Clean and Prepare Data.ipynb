{
 "cells": [
  {
   "attachments": {},
   "cell_type": "markdown",
   "metadata": {},
   "source": [
    "<style>\n",
    "  .centered {\n",
    "    text-align: center;\n",
    "    font-size: 40px;\n",
    "    font-weight: bold;\n",
    "  }\n",
    "</style>\n",
    "\n",
    "<p class=\"centered\">Sentiment Analysis</p>"
   ]
  },
  {
   "attachments": {},
   "cell_type": "markdown",
   "metadata": {},
   "source": [
    "**What is sentiment analysis?** \n",
    "\n",
    "In simple words, Sentiment analysis is defined as the process of mining of data, view, review or sentence to predict the emotion of the sentence through natural language processing (NLP), a branch of computer science concerned with giving computers the ability to understand text and spoken words in much the same way human beings can. The sentiment analysis involve classification of text into three phase “Positive”, “Negative” or“Neutral”. It analyzes the data and labels the ‘better’ and ‘worse’ sentiment as positive and negative respectively.\n",
    "\n",
    "Sentiment Analysis is very helpful in a variety of applications, in this case it is used to understand the real customer feedbacks based on their comments and reviews.\n",
    "\n",
    "---\n",
    "To proceed with this analysis I tried to answer different questions and to check if my assumptions were right or not.\n",
    "\n",
    "From the modeling point of view, different approaches were used:\n",
    "- an approach using the powerful functionalities of the library NLTK (Natural Language ToolKit - https://www.nltk.org/) with the VADER model;\n",
    "- some Machine Learning models (KNN, Naive Bayes, Logistic Regression, SVM, Random Forest, XGBoost) along with pre-trained Deep Learning models (such as HuggingFace's RoBERTa);\n",
    "- extra: use of built pipelines for making sentiment analysis really quick and easy (this will be really useful for the streamlit sentiment analyzer webapp).\n",
    "\n",
    "---\n",
    "\n",
    "This is the analyzed product: \n",
    "- Product: https://www.amazon.co.uk/PreSonus-3-5-inch-High-Definition-Active-Monitors/dp/B075QVMBT9/ref=cm_cr_arp_d_product_top?ie=UTF8\n",
    "- Reviews: https://www.amazon.co.uk/product-reviews/B075QVMBT9/ref=cm_cr_dp_d_show_all_btm?ie=UTF8&reviewerType=all_reviews&sortBy=recent&pageNumber=1"
   ]
  },
  {
   "attachments": {},
   "cell_type": "markdown",
   "metadata": {},
   "source": [
    "## Importing Dependencies"
   ]
  },
  {
   "cell_type": "code",
   "execution_count": 21,
   "metadata": {},
   "outputs": [],
   "source": [
    "import matplotlib.pyplot as plt\n",
    "from matplotlib import style\n",
    "from datetime import datetime\n",
    "import pandas as pd\n",
    "import numpy as np\n",
    "import seaborn as sns\n",
    "import json\n",
    "import re"
   ]
  },
  {
   "cell_type": "code",
   "execution_count": 22,
   "metadata": {},
   "outputs": [],
   "source": [
    "pd.set_option(\"max_colwidth\", None)\n",
    "plt.style.use('ggplot')"
   ]
  },
  {
   "attachments": {},
   "cell_type": "markdown",
   "metadata": {},
   "source": [
    "## Loading Data"
   ]
  },
  {
   "attachments": {},
   "cell_type": "markdown",
   "metadata": {},
   "source": [
    "After the data scraping/mining step i ended up with a json file which needs to be converted into a pandas dataframe to simplify the analysis. \n",
    "\n",
    "This is the purpose of the **json_2_pandas** function: it takes as input the path where the json file is located, than opens it in 'read' ('r') mode to load the data. After loading the data, I iterate through the object to extract review titles, ratings and contents and adding them to a dictionary.\n",
    "\n",
    "Then there is another function, the **format_date** function, that uses the datetime module to convert the dates in a easier format for pandas conversion."
   ]
  },
  {
   "cell_type": "code",
   "execution_count": 23,
   "metadata": {},
   "outputs": [],
   "source": [
    "def format_date(css_date):\n",
    "    # only taking the date and joining those elements in a string\n",
    "    date = css_date.split()[len(css_date.split())-3:]\n",
    "    date_string = \" \".join(date)\n",
    "\n",
    "    # change format\n",
    "    date_object = datetime.strptime(date_string, '%d %B %Y')\n",
    "    formatted_date = date_object.strftime('%Y-%m-%d')\n",
    "    return formatted_date"
   ]
  },
  {
   "cell_type": "code",
   "execution_count": 24,
   "metadata": {},
   "outputs": [],
   "source": [
    "def json_2_pandas(json_path):\n",
    "    with open(json_path, 'r') as json_file:\n",
    "        data = json.load(json_file)\n",
    "    \n",
    "    reviews = {\"Date\": [],\n",
    "               \"Title\": [],\n",
    "               \"Rating\": [],\n",
    "               \"Content\": []}\n",
    "\n",
    "    for page in data:\n",
    "        if len(page) != 0:          # if there are reviews in that page list\n",
    "            for review in page:\n",
    "                # append to the lists in the dictionary the desired elements\n",
    "                reviews['Date'].append(format_date(review['place and date']))\n",
    "                reviews['Title'].append(review[\"title\"])\n",
    "                reviews['Rating'].append(int(review[\"rating\"][:1]))\n",
    "                reviews['Content'].append(review[\"body\"])\n",
    "    \n",
    "    reviews = pd.DataFrame.from_dict(reviews)\n",
    "    return reviews"
   ]
  },
  {
   "attachments": {},
   "cell_type": "markdown",
   "metadata": {},
   "source": [
    "Converting the .json file into a pandas DataFrame."
   ]
  },
  {
   "cell_type": "code",
   "execution_count": 25,
   "metadata": {},
   "outputs": [],
   "source": [
    "path = 'G:\\Il mio Drive\\MAGISTRALE\\IT Coding\\Project\\Sentiment-Analysis-on-Amazon-product-reviews\\Data\\B075QVMBT9_reviews.json'\n",
    "df = json_2_pandas(json_path = path)"
   ]
  },
  {
   "cell_type": "code",
   "execution_count": 26,
   "metadata": {},
   "outputs": [
    {
     "name": "stdout",
     "output_type": "stream",
     "text": [
      "Before correction:  Its a beuaty\n",
      "After correction:  Its a beauty\n"
     ]
    }
   ],
   "source": [
    "print('Before correction: ', df.iloc[2,1])\n",
    "df.iloc[2,1] = \"Its a beauty\"           # can correct it right away since I saw it\n",
    "print('After correction: ', df.iloc[2,1])"
   ]
  },
  {
   "cell_type": "code",
   "execution_count": 27,
   "metadata": {},
   "outputs": [
    {
     "name": "stdout",
     "output_type": "stream",
     "text": [
      "Bought these speakers to use for my new gaming pc and they haven’t disappointed. Well packaged, look and sound great. I often listen to music such as House so wanted speakers that could also have good bass and they would perform. Brilliant for such a low price.\n"
     ]
    }
   ],
   "source": [
    "print(df.iloc[16]['Content'])"
   ]
  },
  {
   "cell_type": "code",
   "execution_count": 28,
   "metadata": {},
   "outputs": [
    {
     "name": "stdout",
     "output_type": "stream",
     "text": [
      "Great set of speakers. Good quality sound. Easy connections. Very happy 🙂👍\n"
     ]
    }
   ],
   "source": [
    "print(df.iloc[13]['Content'])"
   ]
  },
  {
   "attachments": {},
   "cell_type": "markdown",
   "metadata": {},
   "source": [
    "As we can see from these examples, the first one presents some typing errors which can obviously occur when writing a review. Then we see in the second example that long reviews have been scrapped properly, and in the third example we notice also the presence of emoticons.\n",
    "\n",
    "But there could be some missing values: let's check."
   ]
  },
  {
   "cell_type": "code",
   "execution_count": 29,
   "metadata": {},
   "outputs": [
    {
     "data": {
      "text/html": [
       "<div>\n",
       "<style scoped>\n",
       "    .dataframe tbody tr th:only-of-type {\n",
       "        vertical-align: middle;\n",
       "    }\n",
       "\n",
       "    .dataframe tbody tr th {\n",
       "        vertical-align: top;\n",
       "    }\n",
       "\n",
       "    .dataframe thead th {\n",
       "        text-align: right;\n",
       "    }\n",
       "</style>\n",
       "<table border=\"1\" class=\"dataframe\">\n",
       "  <thead>\n",
       "    <tr style=\"text-align: right;\">\n",
       "      <th></th>\n",
       "      <th>Date</th>\n",
       "      <th>Title</th>\n",
       "      <th>Rating</th>\n",
       "      <th>Content</th>\n",
       "    </tr>\n",
       "  </thead>\n",
       "  <tbody>\n",
       "    <tr>\n",
       "      <th>12</th>\n",
       "      <td>2023-05-07</td>\n",
       "      <td>Great deal.</td>\n",
       "      <td>5</td>\n",
       "      <td></td>\n",
       "    </tr>\n",
       "    <tr>\n",
       "      <th>53</th>\n",
       "      <td>2023-03-04</td>\n",
       "      <td>Impressive</td>\n",
       "      <td>5</td>\n",
       "      <td></td>\n",
       "    </tr>\n",
       "    <tr>\n",
       "      <th>78</th>\n",
       "      <td>2022-12-29</td>\n",
       "      <td>Loud, and very clear audio</td>\n",
       "      <td>5</td>\n",
       "      <td></td>\n",
       "    </tr>\n",
       "    <tr>\n",
       "      <th>167</th>\n",
       "      <td>2022-06-24</td>\n",
       "      <td>Awesome! General balanced sound!</td>\n",
       "      <td>5</td>\n",
       "      <td></td>\n",
       "    </tr>\n",
       "    <tr>\n",
       "      <th>291</th>\n",
       "      <td>2021-10-29</td>\n",
       "      <td>great job presonus</td>\n",
       "      <td>5</td>\n",
       "      <td></td>\n",
       "    </tr>\n",
       "    <tr>\n",
       "      <th>296</th>\n",
       "      <td>2021-10-17</td>\n",
       "      <td>Amazing</td>\n",
       "      <td>5</td>\n",
       "      <td></td>\n",
       "    </tr>\n",
       "    <tr>\n",
       "      <th>387</th>\n",
       "      <td>2021-04-12</td>\n",
       "      <td>The best speakers I have ever owned</td>\n",
       "      <td>5</td>\n",
       "      <td></td>\n",
       "    </tr>\n",
       "    <tr>\n",
       "      <th>563</th>\n",
       "      <td>2020-05-07</td>\n",
       "      <td>Amazing Sound. Best I have ever heard</td>\n",
       "      <td>5</td>\n",
       "      <td></td>\n",
       "    </tr>\n",
       "    <tr>\n",
       "      <th>601</th>\n",
       "      <td>2020-02-14</td>\n",
       "      <td>Good quality</td>\n",
       "      <td>3</td>\n",
       "      <td></td>\n",
       "    </tr>\n",
       "  </tbody>\n",
       "</table>\n",
       "</div>"
      ],
      "text/plain": [
       "           Date                                  Title  Rating Content\n",
       "12   2023-05-07                            Great deal.       5        \n",
       "53   2023-03-04                             Impressive       5        \n",
       "78   2022-12-29             Loud, and very clear audio       5        \n",
       "167  2022-06-24       Awesome! General balanced sound!       5        \n",
       "291  2021-10-29                     great job presonus       5        \n",
       "296  2021-10-17                                Amazing       5        \n",
       "387  2021-04-12    The best speakers I have ever owned       5        \n",
       "563  2020-05-07  Amazing Sound. Best I have ever heard       5        \n",
       "601  2020-02-14                           Good quality       3        "
      ]
     },
     "execution_count": 29,
     "metadata": {},
     "output_type": "execute_result"
    }
   ],
   "source": [
    "df[df['Content'].str.len() == 0]"
   ]
  },
  {
   "attachments": {},
   "cell_type": "markdown",
   "metadata": {},
   "source": [
    "We have some missing review contents, but thanks to the title and the rating (as we can see) we can draw some sentiment insights either way! In fact we can already say that these empty reviews are all highly positive, apart from the last one (601) which is pretty neutral, exposing a comment about the good quality of the product but nothing more."
   ]
  },
  {
   "attachments": {},
   "cell_type": "markdown",
   "metadata": {},
   "source": [
    "## Data Cleaning and PreProcessing"
   ]
  },
  {
   "cell_type": "code",
   "execution_count": 30,
   "metadata": {},
   "outputs": [],
   "source": [
    "# convert first everything in lower case to maximize matching of stopwords (and not only)\n",
    "df['Title'] = df['Title'].str.lower()\n",
    "df['Content'] = df['Content'].str.lower()"
   ]
  },
  {
   "attachments": {},
   "cell_type": "markdown",
   "metadata": {},
   "source": [
    "### DATE\n",
    "\n",
    "Quick date manipulation to obtain 3 columns Day, Month and Year:"
   ]
  },
  {
   "cell_type": "code",
   "execution_count": 31,
   "metadata": {},
   "outputs": [],
   "source": [
    "# splitting day, month and year in 3 separate columns\n",
    "date = df['Date'].str.split(\"-\", n=2, expand=True)      # splitting all the values in the column at most 2 times\n",
    "df['Year'] = date[0].astype(int)\n",
    "df['Month'] = date[1].astype(int)\n",
    "df['Day'] = date[2].astype(int)\n",
    "df = df.drop(['Date'], axis=1)"
   ]
  },
  {
   "attachments": {},
   "cell_type": "markdown",
   "metadata": {},
   "source": [
    "### DIY SENTIMENT\n",
    "\n",
    "Function that creates a new column named 'Sentiment' based on the customer rating."
   ]
  },
  {
   "cell_type": "code",
   "execution_count": 32,
   "metadata": {},
   "outputs": [],
   "source": [
    "def rating_2_sentiment(row):\n",
    "    if row == 3:\n",
    "        sentiment = 'Neutral'\n",
    "    elif row == 4 or row == 5:\n",
    "        sentiment = 'Positive'\n",
    "    elif row == 1 or row == 2:\n",
    "        sentiment = 'Negative'\n",
    "    return sentiment"
   ]
  },
  {
   "cell_type": "code",
   "execution_count": 33,
   "metadata": {},
   "outputs": [],
   "source": [
    "# apply function to Rating column\n",
    "df['Sentiment'] = df['Rating'].apply(rating_2_sentiment)"
   ]
  },
  {
   "attachments": {},
   "cell_type": "markdown",
   "metadata": {},
   "source": [
    "### CLEAN\n",
    "\n",
    "Putting in a new column the content + the title of the review for integrity and completeness. This will be useful not only for evaluating the sentiment, but also to have a sort of \"content review\" for the observations.\n",
    "\n",
    "Here is presented also a function to remove non-necessary parts and substitute english contractions with their expansion using the \"re\" module."
   ]
  },
  {
   "cell_type": "code",
   "execution_count": 34,
   "metadata": {},
   "outputs": [],
   "source": [
    "#Removing special character\n",
    "def clean(content):\n",
    "    content = re.sub('\\W+',' ', content )                             # special characters\n",
    "    content = re.sub(r'[:;=]\\s*[-]?[)D(\\[\\]/\\\\OpP]', '', content)     # emoticons\n",
    "    content = re.sub(r'[^\\w\\s]', '', content)                         # punctuation\n",
    "    return content\n",
    "\n",
    "def clean_urls(content):\n",
    "    return re.sub(r'http\\S+', '', content)\n",
    "\n",
    "# Expansion of english contractions\n",
    "def contraction_expansion(content):\n",
    "    content = re.sub(r\"won\\'t\", \"would not\", content)\n",
    "    content = re.sub(r\"can\\'t\", \"can not\", content)\n",
    "    content = re.sub(r\"don\\'t\", \"do not\", content)\n",
    "    content = re.sub(r\"shouldn\\'t\", \"should not\", content)\n",
    "    content = re.sub(r\"needn\\'t\", \"need not\", content)\n",
    "    content = re.sub(r\"hasn\\'t\", \"has not\", content)\n",
    "    content = re.sub(r\"haven\\'t\", \"have not\", content)\n",
    "    content = re.sub(r\"weren\\'t\", \"were not\", content)\n",
    "    content = re.sub(r\"mightn\\'t\", \"might not\", content)\n",
    "    content = re.sub(r\"didn\\'t\", \"did not\", content)\n",
    "    content = re.sub(r\"n\\'t\", \" not\", content)\n",
    "    return content\n",
    "\n",
    "#Data preprocessing\n",
    "def data_cleaning(content):\n",
    "    #remove firts the urls\n",
    "    content = clean_urls(content)\n",
    "    content = contraction_expansion(content)\n",
    "    content = clean(content)   \n",
    "    return content"
   ]
  },
  {
   "cell_type": "code",
   "execution_count": 35,
   "metadata": {},
   "outputs": [],
   "source": [
    "# generalize with . even though there are some titles that end up with some kind of punctuation\n",
    "# will clean it in the Clean Review column\n",
    "df['Review'] = df['Title'] + '. ' + df['Content']\n",
    "df['Clean Review'] = df['Title'] + '. ' + df['Content']\n",
    "df['Clean Review'] = df['Clean Review'].apply(data_cleaning)"
   ]
  },
  {
   "attachments": {},
   "cell_type": "markdown",
   "metadata": {},
   "source": [
    "### STOP WORDS\n",
    "\n",
    "Creating a column without stop words. Coming to stop words, these are words that do not impact the overall sentiment of the review, but the general nltk stop words contains words like not, hasn't, would'nt which actually conveys a negative sentiment. If I remove that it will end up contradicting the target variable (sentiment). So I have curated a list of the stop words which doesn't have any negative sentiment or any negative alternatives.\n",
    "\n",
    "Obviously these are just some of the many stopwords, but i'll use these as a reference for some EDA."
   ]
  },
  {
   "cell_type": "code",
   "execution_count": 36,
   "metadata": {},
   "outputs": [
    {
     "data": {
      "text/plain": [
       "142"
      ]
     },
     "execution_count": 36,
     "metadata": {},
     "output_type": "execute_result"
    }
   ],
   "source": [
    "# stop_words = stopwords.words('english')\n",
    "# print(stop_words)\n",
    "stop_words = ['i', 'me', 'my', 'myself', 'we', 'our', 'ours', 'ourselves', 'you', \"you're\", \"you've\", \"you'll\", \"you'd\", 'your', 'yours', 'yourself', 'yourselves', 'he', 'him', 'his', 'himself', 'she', \"she's\", 'her', 'hers', 'herself', 'it', \"it's\", 'its', 'itself', 'they', 'them', 'their', 'theirs', 'themselves', 'what', 'which', 'who', 'whom', 'this', 'that', \"that'll\", 'these', 'those', 'am', 'is', 'are', 'was', 'were', 'be', 'been', 'being', 'have', 'has', 'had', 'having', 'do', 'does', 'did', 'doing', 'a', 'an', 'the', 'and', 'but', 'if', 'or', 'because', 'as', 'until', 'while', 'of', 'at', 'by', 'for', 'with', 'about', 'against', 'between', 'into', 'through', 'during', 'before', 'after', 'above', 'below', 'to', 'from', 'up', 'down', 'in', 'out', 'on', 'off', 'over', 'under', 'again', 'further', 'then', 'once', 'here', 'there', 'when', 'where', 'why', 'how', 'all', 'any', 'both', 'each', 'few', 'more', 'most', 'other', 'some', 'such', 'only', 'own', 'same', 'so', 'than', 'too', 'very', 's', 't', 'can', 'will', 'just', 'should', \"should've\", 'now', 'd', 'll', 'm', 'o', 're', 've', 'y']\n",
    "new_stopwords = [\"would\", \"shall\", \"could\", \"might\"]\n",
    "stop_words.extend(new_stopwords)\n",
    "len(stop_words)"
   ]
  },
  {
   "cell_type": "code",
   "execution_count": 37,
   "metadata": {},
   "outputs": [],
   "source": [
    "# basically crating a new column with all the content in the review \n",
    "# eliminating with a lambda function and list comprehension the words in the stop_words set of words\n",
    "df['Clean Review'] = df['Clean Review'].apply(lambda x: ' '.join([word for word in x.split() if word not in (stop_words)]))"
   ]
  },
  {
   "attachments": {},
   "cell_type": "markdown",
   "metadata": {},
   "source": [
    "My objective is to have different columns:\n",
    "- Title and content of reviews\n",
    "- Title + content column with stopwords, punctuation and emoticons to maintain the context of the sentence\n",
    "- Title + content column without stopwords, punctuation and emoticons to then create the sparse matrix and train the models."
   ]
  },
  {
   "attachments": {},
   "cell_type": "markdown",
   "metadata": {},
   "source": [
    "Let's now visualize the complete DataFrame."
   ]
  },
  {
   "cell_type": "code",
   "execution_count": 38,
   "metadata": {},
   "outputs": [
    {
     "data": {
      "text/html": [
       "<div>\n",
       "<style scoped>\n",
       "    .dataframe tbody tr th:only-of-type {\n",
       "        vertical-align: middle;\n",
       "    }\n",
       "\n",
       "    .dataframe tbody tr th {\n",
       "        vertical-align: top;\n",
       "    }\n",
       "\n",
       "    .dataframe thead th {\n",
       "        text-align: right;\n",
       "    }\n",
       "</style>\n",
       "<table border=\"1\" class=\"dataframe\">\n",
       "  <thead>\n",
       "    <tr style=\"text-align: right;\">\n",
       "      <th></th>\n",
       "      <th>Clean Review</th>\n",
       "      <th>Review</th>\n",
       "      <th>Title</th>\n",
       "      <th>Content</th>\n",
       "      <th>Rating</th>\n",
       "      <th>Sentiment</th>\n",
       "      <th>Year</th>\n",
       "      <th>Month</th>\n",
       "      <th>Day</th>\n",
       "    </tr>\n",
       "  </thead>\n",
       "  <tbody>\n",
       "    <tr>\n",
       "      <th>0</th>\n",
       "      <td>good sound seem decent build quality good sound happy purchase</td>\n",
       "      <td>good sound. seem decent build quality and good sound. very happy with purchase.</td>\n",
       "      <td>good sound</td>\n",
       "      <td>seem decent build quality and good sound. very happy with purchase.</td>\n",
       "      <td>5</td>\n",
       "      <td>Positive</td>\n",
       "      <td>2023</td>\n",
       "      <td>5</td>\n",
       "      <td>28</td>\n",
       "    </tr>\n",
       "    <tr>\n",
       "      <th>1</th>\n",
       "      <td>not realise bad audio setup considering used quite respectable setup many years ago feel trap using bluetooth speakers leave lot desired price provide perfect audio experience filling 3x3m room hardly auditorium quality amazing feel like subwoofer genres average listening experience without neighbours complaining beautiful almost brings tear eye</td>\n",
       "      <td>i didn't realise how bad my audio setup was. considering i used to have quite a respectable setup many years ago i've feel into a trap of using bluetooth speakers which leave a lot to be desired. for the price these provide a perfect audio experience. now i'm only filling a 3x3m room so hardly an auditorium but the quality is amazing. i do feel like i could do with a subwoofer for some genres but for the average listening experience, without the neighbours complaining, it's beautiful. almost brings a tear to my eye.</td>\n",
       "      <td>i didn't realise how bad my audio setup was</td>\n",
       "      <td>considering i used to have quite a respectable setup many years ago i've feel into a trap of using bluetooth speakers which leave a lot to be desired. for the price these provide a perfect audio experience. now i'm only filling a 3x3m room so hardly an auditorium but the quality is amazing. i do feel like i could do with a subwoofer for some genres but for the average listening experience, without the neighbours complaining, it's beautiful. almost brings a tear to my eye.</td>\n",
       "      <td>5</td>\n",
       "      <td>Positive</td>\n",
       "      <td>2023</td>\n",
       "      <td>5</td>\n",
       "      <td>27</td>\n",
       "    </tr>\n",
       "    <tr>\n",
       "      <th>2</th>\n",
       "      <td>beauty love compact shape sound</td>\n",
       "      <td>its a beauty. love its compact shape and sound</td>\n",
       "      <td>its a beauty</td>\n",
       "      <td>love its compact shape and sound</td>\n",
       "      <td>5</td>\n",
       "      <td>Positive</td>\n",
       "      <td>2023</td>\n",
       "      <td>5</td>\n",
       "      <td>26</td>\n",
       "    </tr>\n",
       "    <tr>\n",
       "      <th>3</th>\n",
       "      <td>perfect upgrade pc audio ruining cheap pc speakers blow mind clean sound small frame good value money</td>\n",
       "      <td>perfect upgrade for pc audio. if you ruining cheap pc speakers those will blow your mind. clean sound, small frame, good value for money.</td>\n",
       "      <td>perfect upgrade for pc audio</td>\n",
       "      <td>if you ruining cheap pc speakers those will blow your mind. clean sound, small frame, good value for money.</td>\n",
       "      <td>5</td>\n",
       "      <td>Positive</td>\n",
       "      <td>2023</td>\n",
       "      <td>5</td>\n",
       "      <td>23</td>\n",
       "    </tr>\n",
       "    <tr>\n",
       "      <th>4</th>\n",
       "      <td>wonderful monitors years since using monitors use dt770 250 audio work wow pleased added studio first sound sound quite flat good accurately eq sound bass even meaning not exaggerated mids well balanced sound great high end also fairly well balanced get nice air snap eqing bayer dynamic dt770 250 find headphones air snap bit highs default lower mids probably little punch not much going back forth 770 monitors similar ish experience build quality size petit size not take much room build absolutely fine price no issues standard connections means speaker wire phono 3 5mm unbalanced recommend using trs trs help eliminate noise emf backs also access bass treble knobs help tune sound room front power switch 3 5mm ports headphones phone play music phone via correct cable usually 3 5mm 3 5mm note headphone not powerful enough power 250ohm headphones overall monitors brilliant well worth price</td>\n",
       "      <td>wonderful monitors. it's been some years since using any monitors as i use dt770 250's for all my audio work and wow, i'm so pleased i added these to my studio...first the sound...the sound is quite flat which is good as you can accurately eq your sound. the bass is \"even\", meaning that it's there but it's not exaggerated. the mids are very well balanced (they sound great) and the high end is also fairly well balanced and you can get some nice air and snap when eqing. for those that have the bayer dynamic dt770 250's, you'll find your headphones have more \"air\" and snap a bit more in the highs by default, the lower mids probably have a little more punch, but not much. going back and forth between the 770's and the monitors should be a similar(ish) experience...build quality and size..very petit in size, they don't take up much room. the build is absolutely fine for the price. no issues there...you have standard connections by means of speaker wire and phono to 3.5mm (unbalanced). i'd recommend using some trs to trs to help eliminate noise from emf...on the backs you also have access to bass and treble knobs to help tune the sound to your room...on the front you have the power switch and 3.5mm ports for headphones and phone so you can play music from your phone via the correct cable, usually 3.5mm to 3.5mm. just note that the headphone in isn't powerful enough to power 250ohm headphones...overall, these monitors are brilliant and well worth the price.</td>\n",
       "      <td>wonderful monitors</td>\n",
       "      <td>it's been some years since using any monitors as i use dt770 250's for all my audio work and wow, i'm so pleased i added these to my studio...first the sound...the sound is quite flat which is good as you can accurately eq your sound. the bass is \"even\", meaning that it's there but it's not exaggerated. the mids are very well balanced (they sound great) and the high end is also fairly well balanced and you can get some nice air and snap when eqing. for those that have the bayer dynamic dt770 250's, you'll find your headphones have more \"air\" and snap a bit more in the highs by default, the lower mids probably have a little more punch, but not much. going back and forth between the 770's and the monitors should be a similar(ish) experience...build quality and size..very petit in size, they don't take up much room. the build is absolutely fine for the price. no issues there...you have standard connections by means of speaker wire and phono to 3.5mm (unbalanced). i'd recommend using some trs to trs to help eliminate noise from emf...on the backs you also have access to bass and treble knobs to help tune the sound to your room...on the front you have the power switch and 3.5mm ports for headphones and phone so you can play music from your phone via the correct cable, usually 3.5mm to 3.5mm. just note that the headphone in isn't powerful enough to power 250ohm headphones...overall, these monitors are brilliant and well worth the price.</td>\n",
       "      <td>5</td>\n",
       "      <td>Positive</td>\n",
       "      <td>2023</td>\n",
       "      <td>5</td>\n",
       "      <td>21</td>\n",
       "    </tr>\n",
       "    <tr>\n",
       "      <th>5</th>\n",
       "      <td>not loud enough probably suited bedroom use not anything bass kept cutting highs mids times also not great opted krk instead</td>\n",
       "      <td>not loud enough. these are probably suited for bedroom use and not anything more. the bass kept cutting out with the highs and mids at times also doing the same. not great at all - i opted for krk’s instead!</td>\n",
       "      <td>not loud enough</td>\n",
       "      <td>these are probably suited for bedroom use and not anything more. the bass kept cutting out with the highs and mids at times also doing the same. not great at all - i opted for krk’s instead!</td>\n",
       "      <td>2</td>\n",
       "      <td>Negative</td>\n",
       "      <td>2023</td>\n",
       "      <td>5</td>\n",
       "      <td>20</td>\n",
       "    </tr>\n",
       "    <tr>\n",
       "      <th>6</th>\n",
       "      <td>faulty passive speaker not connect main speaker faulty disappointed</td>\n",
       "      <td>faulty. passive speaker won't connect to the main speaker.. faulty.very disappointed</td>\n",
       "      <td>faulty</td>\n",
       "      <td>passive speaker won't connect to the main speaker.. faulty.very disappointed</td>\n",
       "      <td>1</td>\n",
       "      <td>Negative</td>\n",
       "      <td>2023</td>\n",
       "      <td>5</td>\n",
       "      <td>18</td>\n",
       "    </tr>\n",
       "    <tr>\n",
       "      <th>7</th>\n",
       "      <td>brilliant monitor speakers dj ing absolutely love speakers perfect dj ing home loud enough little boogie kids sound quality great glad research ahead time build quality really good volume pot nice smooth great home music production gaming well worth investment</td>\n",
       "      <td>brilliant monitor speakers for dj'ing. absolutely love these speakers - perfect for dj'ing at home and loud enough for a little boogie with the kids. sound quality is great and i'm glad i did my research ahead of time. build quality is really good, the volume pot is nice and smooth...these would be great for home music production or for gaming...well worth the investment.</td>\n",
       "      <td>brilliant monitor speakers for dj'ing</td>\n",
       "      <td>absolutely love these speakers - perfect for dj'ing at home and loud enough for a little boogie with the kids. sound quality is great and i'm glad i did my research ahead of time. build quality is really good, the volume pot is nice and smooth...these would be great for home music production or for gaming...well worth the investment.</td>\n",
       "      <td>5</td>\n",
       "      <td>Positive</td>\n",
       "      <td>2023</td>\n",
       "      <td>5</td>\n",
       "      <td>17</td>\n",
       "    </tr>\n",
       "    <tr>\n",
       "      <th>8</th>\n",
       "      <td>good not good harman kardon soundticks good not good harman kardon soundticks though smaller overall</td>\n",
       "      <td>very good but not as good as the harman kardon soundticks. very good but not as good as the harman kardon soundticks..though these are smaller overall</td>\n",
       "      <td>very good but not as good as the harman kardon soundticks</td>\n",
       "      <td>very good but not as good as the harman kardon soundticks..though these are smaller overall</td>\n",
       "      <td>4</td>\n",
       "      <td>Positive</td>\n",
       "      <td>2023</td>\n",
       "      <td>5</td>\n",
       "      <td>14</td>\n",
       "    </tr>\n",
       "    <tr>\n",
       "      <th>9</th>\n",
       "      <td>crackling sound connected bluetooth like preface review saying tried 2 different sets speakers bluetooth version brand new exact issue must model issue rather one problem first pair bought constant crackling buzzing noise coming passive speaker connected bluetooth noise disappeared disconnected bluetooth appeared instantly connected audible low volumes ruined listening experience exchanged another set second set exact problem tried connecting different bluetooth device tried moving speakers different rooms moving electrical devices away swapping cables around noise not disappear no matter tried really disappointing massively turned away purchasing presonus products started returns process 2nd may 2023 posted item day still not refund today 12th may 2023 love update refund please</td>\n",
       "      <td>crackling sound when connected to bluetooth. i’d like to preface this review by saying i tried 2 different sets of these speakers (both the bluetooth version), brand new, and both had the exact same issue, so must be a model issue rather than a one-off problem...the first pair i bought had a constant crackling/buzzing noise coming from the passive speaker when connected to bluetooth. the noise disappeared when disconnected from bluetooth, but appeared instantly when connected. it was audible at low volumes which ruined the listening experience so i exchanged for another set...this second set had the exact same problem. i tried connecting a different bluetooth device, i tried moving the speakers to different rooms, moving electrical devices away, swapping cables around… but the noise would not disappear no matter what i tried...really disappointing and has massively turned me away from purchasing presonus products again...i started the returns process on 2nd may 2023, posted the item the same day, and still have not had a refund - today is 12th may 2023. would love an update on my refund please?</td>\n",
       "      <td>crackling sound when connected to bluetooth</td>\n",
       "      <td>i’d like to preface this review by saying i tried 2 different sets of these speakers (both the bluetooth version), brand new, and both had the exact same issue, so must be a model issue rather than a one-off problem...the first pair i bought had a constant crackling/buzzing noise coming from the passive speaker when connected to bluetooth. the noise disappeared when disconnected from bluetooth, but appeared instantly when connected. it was audible at low volumes which ruined the listening experience so i exchanged for another set...this second set had the exact same problem. i tried connecting a different bluetooth device, i tried moving the speakers to different rooms, moving electrical devices away, swapping cables around… but the noise would not disappear no matter what i tried...really disappointing and has massively turned me away from purchasing presonus products again...i started the returns process on 2nd may 2023, posted the item the same day, and still have not had a refund - today is 12th may 2023. would love an update on my refund please?</td>\n",
       "      <td>1</td>\n",
       "      <td>Negative</td>\n",
       "      <td>2023</td>\n",
       "      <td>5</td>\n",
       "      <td>12</td>\n",
       "    </tr>\n",
       "    <tr>\n",
       "      <th>10</th>\n",
       "      <td>broke 2 years speakers broke couple years useless amp went inside</td>\n",
       "      <td>these broke after 2 years. my speakers broke after a couple of years - useless the amp went inside.</td>\n",
       "      <td>these broke after 2 years</td>\n",
       "      <td>my speakers broke after a couple of years - useless the amp went inside.</td>\n",
       "      <td>1</td>\n",
       "      <td>Negative</td>\n",
       "      <td>2023</td>\n",
       "      <td>5</td>\n",
       "      <td>9</td>\n",
       "    </tr>\n",
       "    <tr>\n",
       "      <th>11</th>\n",
       "      <td>impressive sound quality bought pair daughter good kept ordered another pair</td>\n",
       "      <td>impressive sound quality!. bought a pair of these for my daughter, so good i kept them and ordered another pair :-)</td>\n",
       "      <td>impressive sound quality!</td>\n",
       "      <td>bought a pair of these for my daughter, so good i kept them and ordered another pair :-)</td>\n",
       "      <td>5</td>\n",
       "      <td>Positive</td>\n",
       "      <td>2023</td>\n",
       "      <td>5</td>\n",
       "      <td>7</td>\n",
       "    </tr>\n",
       "    <tr>\n",
       "      <th>12</th>\n",
       "      <td>great deal</td>\n",
       "      <td>great deal..</td>\n",
       "      <td>great deal.</td>\n",
       "      <td></td>\n",
       "      <td>5</td>\n",
       "      <td>Positive</td>\n",
       "      <td>2023</td>\n",
       "      <td>5</td>\n",
       "      <td>7</td>\n",
       "    </tr>\n",
       "    <tr>\n",
       "      <th>13</th>\n",
       "      <td>excellent great set speakers good quality sound easy connections happy</td>\n",
       "      <td>excellent. great set of speakers. good quality sound. easy connections. very happy 🙂👍</td>\n",
       "      <td>excellent</td>\n",
       "      <td>great set of speakers. good quality sound. easy connections. very happy 🙂👍</td>\n",
       "      <td>5</td>\n",
       "      <td>Positive</td>\n",
       "      <td>2023</td>\n",
       "      <td>5</td>\n",
       "      <td>4</td>\n",
       "    </tr>\n",
       "    <tr>\n",
       "      <th>14</th>\n",
       "      <td>perfect compact speakers item came next day promised packaging minimal affective great see not excessive waste paper speakers easy connect not sure connect speakers instructions honest size price surprised bang olufsen speakers 90 time cost 300 exceptional dubious sound quality albeit son pc playstation etc sound actually really sharp base pretty good without distortion sound loss sound bands pretty much together not lost whilst not exactly match b price surprised sound good compact size allows son shelf pretty light weight not compromise sound price worthy buy</td>\n",
       "      <td>perfect compact speakers. item came next day as promised and packaging was minimal but affective, great to see there was not excessive waste on paper !!..the speakers were very easy to connect, if you were not sure how to connect speakers there was some instructions !..to be honest for the size and price, i was very surprised. i have bang and olufsen speakers from the 90's which at the time cost £300!! they are exceptional so was very dubious of the sound quality albeit they are for my son and his pc/playstation etc.. the sound was actually really sharp and the base was pretty good without any distortion or sound loss. the sound bands were pretty much together and not lost at all..whilst not exactly a match for my b&amp;o, for the price i was so surprised. the sound is so good, and their compact size allows my son to have these on his shelf above him. pretty light weight but they do not compromise on sound..all in all for the price these are a worthy buy</td>\n",
       "      <td>perfect compact speakers</td>\n",
       "      <td>item came next day as promised and packaging was minimal but affective, great to see there was not excessive waste on paper !!..the speakers were very easy to connect, if you were not sure how to connect speakers there was some instructions !..to be honest for the size and price, i was very surprised. i have bang and olufsen speakers from the 90's which at the time cost £300!! they are exceptional so was very dubious of the sound quality albeit they are for my son and his pc/playstation etc.. the sound was actually really sharp and the base was pretty good without any distortion or sound loss. the sound bands were pretty much together and not lost at all..whilst not exactly a match for my b&amp;o, for the price i was so surprised. the sound is so good, and their compact size allows my son to have these on his shelf above him. pretty light weight but they do not compromise on sound..all in all for the price these are a worthy buy</td>\n",
       "      <td>5</td>\n",
       "      <td>Positive</td>\n",
       "      <td>2023</td>\n",
       "      <td>5</td>\n",
       "      <td>4</td>\n",
       "    </tr>\n",
       "  </tbody>\n",
       "</table>\n",
       "</div>"
      ],
      "text/plain": [
       "                                                                                                                                                                                                                                                                                                                                                                                                                                                                                                                                                                                                                                                                                                                                                                                                                                                                                                                         Clean Review  \\\n",
       "0                                                                                                                                                                                                                                                                                                                                                                                                                                                                                                                                                                                                                                                                                                                                                                                                                                                                      good sound seem decent build quality good sound happy purchase   \n",
       "1                                                                                                                                                                                                                                                                                                                                                                                                                                                                                                                                                                         not realise bad audio setup considering used quite respectable setup many years ago feel trap using bluetooth speakers leave lot desired price provide perfect audio experience filling 3x3m room hardly auditorium quality amazing feel like subwoofer genres average listening experience without neighbours complaining beautiful almost brings tear eye   \n",
       "2                                                                                                                                                                                                                                                                                                                                                                                                                                                                                                                                                                                                                                                                                                                                                                                                                                                                                                     beauty love compact shape sound   \n",
       "3                                                                                                                                                                                                                                                                                                                                                                                                                                                                                                                                                                                                                                                                                                                                                                                                                               perfect upgrade pc audio ruining cheap pc speakers blow mind clean sound small frame good value money   \n",
       "4   wonderful monitors years since using monitors use dt770 250 audio work wow pleased added studio first sound sound quite flat good accurately eq sound bass even meaning not exaggerated mids well balanced sound great high end also fairly well balanced get nice air snap eqing bayer dynamic dt770 250 find headphones air snap bit highs default lower mids probably little punch not much going back forth 770 monitors similar ish experience build quality size petit size not take much room build absolutely fine price no issues standard connections means speaker wire phono 3 5mm unbalanced recommend using trs trs help eliminate noise emf backs also access bass treble knobs help tune sound room front power switch 3 5mm ports headphones phone play music phone via correct cable usually 3 5mm 3 5mm note headphone not powerful enough power 250ohm headphones overall monitors brilliant well worth price   \n",
       "5                                                                                                                                                                                                                                                                                                                                                                                                                                                                                                                                                                                                                                                                                                                                                                                                        not loud enough probably suited bedroom use not anything bass kept cutting highs mids times also not great opted krk instead   \n",
       "6                                                                                                                                                                                                                                                                                                                                                                                                                                                                                                                                                                                                                                                                                                                                                                                                                                                                 faulty passive speaker not connect main speaker faulty disappointed   \n",
       "7                                                                                                                                                                                                                                                                                                                                                                                                                                                                                                                                                                                                                                                                brilliant monitor speakers dj ing absolutely love speakers perfect dj ing home loud enough little boogie kids sound quality great glad research ahead time build quality really good volume pot nice smooth great home music production gaming well worth investment   \n",
       "8                                                                                                                                                                                                                                                                                                                                                                                                                                                                                                                                                                                                                                                                                                                                                                                                                                good not good harman kardon soundticks good not good harman kardon soundticks though smaller overall   \n",
       "9                                                                                                               crackling sound connected bluetooth like preface review saying tried 2 different sets speakers bluetooth version brand new exact issue must model issue rather one problem first pair bought constant crackling buzzing noise coming passive speaker connected bluetooth noise disappeared disconnected bluetooth appeared instantly connected audible low volumes ruined listening experience exchanged another set second set exact problem tried connecting different bluetooth device tried moving speakers different rooms moving electrical devices away swapping cables around noise not disappear no matter tried really disappointing massively turned away purchasing presonus products started returns process 2nd may 2023 posted item day still not refund today 12th may 2023 love update refund please   \n",
       "10                                                                                                                                                                                                                                                                                                                                                                                                                                                                                                                                                                                                                                                                                                                                                                                                                                                                  broke 2 years speakers broke couple years useless amp went inside   \n",
       "11                                                                                                                                                                                                                                                                                                                                                                                                                                                                                                                                                                                                                                                                                                                                                                                                                                                       impressive sound quality bought pair daughter good kept ordered another pair   \n",
       "12                                                                                                                                                                                                                                                                                                                                                                                                                                                                                                                                                                                                                                                                                                                                                                                                                                                                                                                         great deal   \n",
       "13                                                                                                                                                                                                                                                                                                                                                                                                                                                                                                                                                                                                                                                                                                                                                                                                                                                             excellent great set speakers good quality sound easy connections happy   \n",
       "14                                                                                                                                                                                                                                                                                                                                            perfect compact speakers item came next day promised packaging minimal affective great see not excessive waste paper speakers easy connect not sure connect speakers instructions honest size price surprised bang olufsen speakers 90 time cost 300 exceptional dubious sound quality albeit son pc playstation etc sound actually really sharp base pretty good without distortion sound loss sound bands pretty much together not lost whilst not exactly match b price surprised sound good compact size allows son shelf pretty light weight not compromise sound price worthy buy   \n",
       "\n",
       "                                                                                                                                                                                                                                                                                                                                                                                                                                                                                                                                                                                                                                                                                                                                                                                                                                                                                                                                                                                                                                                                                                                                                                                                                                                                                                                                                                                                                                                                                                                                Review  \\\n",
       "0                                                                                                                                                                                                                                                                                                                                                                                                                                                                                                                                                                                                                                                                                                                                                                                                                                                                                                                                                                                                                                                                                                                                                                                                                                                                                                                                                                                                                                                      good sound. seem decent build quality and good sound. very happy with purchase.   \n",
       "1                                                                                                                                                                                                                                                                                                                                                                                                                                                                                                                                                                                                                                                                                                                                                                                                                                                                                                                                                                                            i didn't realise how bad my audio setup was. considering i used to have quite a respectable setup many years ago i've feel into a trap of using bluetooth speakers which leave a lot to be desired. for the price these provide a perfect audio experience. now i'm only filling a 3x3m room so hardly an auditorium but the quality is amazing. i do feel like i could do with a subwoofer for some genres but for the average listening experience, without the neighbours complaining, it's beautiful. almost brings a tear to my eye.   \n",
       "2                                                                                                                                                                                                                                                                                                                                                                                                                                                                                                                                                                                                                                                                                                                                                                                                                                                                                                                                                                                                                                                                                                                                                                                                                                                                                                                                                                                                                                                                                       its a beauty. love its compact shape and sound   \n",
       "3                                                                                                                                                                                                                                                                                                                                                                                                                                                                                                                                                                                                                                                                                                                                                                                                                                                                                                                                                                                                                                                                                                                                                                                                                                                                                                                                                                                            perfect upgrade for pc audio. if you ruining cheap pc speakers those will blow your mind. clean sound, small frame, good value for money.   \n",
       "4   wonderful monitors. it's been some years since using any monitors as i use dt770 250's for all my audio work and wow, i'm so pleased i added these to my studio...first the sound...the sound is quite flat which is good as you can accurately eq your sound. the bass is \"even\", meaning that it's there but it's not exaggerated. the mids are very well balanced (they sound great) and the high end is also fairly well balanced and you can get some nice air and snap when eqing. for those that have the bayer dynamic dt770 250's, you'll find your headphones have more \"air\" and snap a bit more in the highs by default, the lower mids probably have a little more punch, but not much. going back and forth between the 770's and the monitors should be a similar(ish) experience...build quality and size..very petit in size, they don't take up much room. the build is absolutely fine for the price. no issues there...you have standard connections by means of speaker wire and phono to 3.5mm (unbalanced). i'd recommend using some trs to trs to help eliminate noise from emf...on the backs you also have access to bass and treble knobs to help tune the sound to your room...on the front you have the power switch and 3.5mm ports for headphones and phone so you can play music from your phone via the correct cable, usually 3.5mm to 3.5mm. just note that the headphone in isn't powerful enough to power 250ohm headphones...overall, these monitors are brilliant and well worth the price.   \n",
       "5                                                                                                                                                                                                                                                                                                                                                                                                                                                                                                                                                                                                                                                                                                                                                                                                                                                                                                                                                                                                                                                                                                                                                                                                                                                                                                                      not loud enough. these are probably suited for bedroom use and not anything more. the bass kept cutting out with the highs and mids at times also doing the same. not great at all - i opted for krk’s instead!   \n",
       "6                                                                                                                                                                                                                                                                                                                                                                                                                                                                                                                                                                                                                                                                                                                                                                                                                                                                                                                                                                                                                                                                                                                                                                                                                                                                                                                                                                                                                                                 faulty. passive speaker won't connect to the main speaker.. faulty.very disappointed   \n",
       "7                                                                                                                                                                                                                                                                                                                                                                                                                                                                                                                                                                                                                                                                                                                                                                                                                                                                                                                                                                                                                                                                                                                                               brilliant monitor speakers for dj'ing. absolutely love these speakers - perfect for dj'ing at home and loud enough for a little boogie with the kids. sound quality is great and i'm glad i did my research ahead of time. build quality is really good, the volume pot is nice and smooth...these would be great for home music production or for gaming...well worth the investment.   \n",
       "8                                                                                                                                                                                                                                                                                                                                                                                                                                                                                                                                                                                                                                                                                                                                                                                                                                                                                                                                                                                                                                                                                                                                                                                                                                                                                                                                                                               very good but not as good as the harman kardon soundticks. very good but not as good as the harman kardon soundticks..though these are smaller overall   \n",
       "9                                                                                                                                                                                                                                                                                                                                                                              crackling sound when connected to bluetooth. i’d like to preface this review by saying i tried 2 different sets of these speakers (both the bluetooth version), brand new, and both had the exact same issue, so must be a model issue rather than a one-off problem...the first pair i bought had a constant crackling/buzzing noise coming from the passive speaker when connected to bluetooth. the noise disappeared when disconnected from bluetooth, but appeared instantly when connected. it was audible at low volumes which ruined the listening experience so i exchanged for another set...this second set had the exact same problem. i tried connecting a different bluetooth device, i tried moving the speakers to different rooms, moving electrical devices away, swapping cables around… but the noise would not disappear no matter what i tried...really disappointing and has massively turned me away from purchasing presonus products again...i started the returns process on 2nd may 2023, posted the item the same day, and still have not had a refund - today is 12th may 2023. would love an update on my refund please?   \n",
       "10                                                                                                                                                                                                                                                                                                                                                                                                                                                                                                                                                                                                                                                                                                                                                                                                                                                                                                                                                                                                                                                                                                                                                                                                                                                                                                                                                                                                                                 these broke after 2 years. my speakers broke after a couple of years - useless the amp went inside.   \n",
       "11                                                                                                                                                                                                                                                                                                                                                                                                                                                                                                                                                                                                                                                                                                                                                                                                                                                                                                                                                                                                                                                                                                                                                                                                                                                                                                                                                                                                                 impressive sound quality!. bought a pair of these for my daughter, so good i kept them and ordered another pair :-)   \n",
       "12                                                                                                                                                                                                                                                                                                                                                                                                                                                                                                                                                                                                                                                                                                                                                                                                                                                                                                                                                                                                                                                                                                                                                                                                                                                                                                                                                                                                                                                                                                                       great deal..    \n",
       "13                                                                                                                                                                                                                                                                                                                                                                                                                                                                                                                                                                                                                                                                                                                                                                                                                                                                                                                                                                                                                                                                                                                                                                                                                                                                                                                                                                                                                                               excellent. great set of speakers. good quality sound. easy connections. very happy 🙂👍   \n",
       "14                                                                                                                                                                                                                                                                                                                                                                                                                                                                                                                                perfect compact speakers. item came next day as promised and packaging was minimal but affective, great to see there was not excessive waste on paper !!..the speakers were very easy to connect, if you were not sure how to connect speakers there was some instructions !..to be honest for the size and price, i was very surprised. i have bang and olufsen speakers from the 90's which at the time cost £300!! they are exceptional so was very dubious of the sound quality albeit they are for my son and his pc/playstation etc.. the sound was actually really sharp and the base was pretty good without any distortion or sound loss. the sound bands were pretty much together and not lost at all..whilst not exactly a match for my b&o, for the price i was so surprised. the sound is so good, and their compact size allows my son to have these on his shelf above him. pretty light weight but they do not compromise on sound..all in all for the price these are a worthy buy   \n",
       "\n",
       "                                                        Title  \\\n",
       "0                                                  good sound   \n",
       "1                 i didn't realise how bad my audio setup was   \n",
       "2                                                its a beauty   \n",
       "3                                perfect upgrade for pc audio   \n",
       "4                                          wonderful monitors   \n",
       "5                                             not loud enough   \n",
       "6                                                      faulty   \n",
       "7                       brilliant monitor speakers for dj'ing   \n",
       "8   very good but not as good as the harman kardon soundticks   \n",
       "9                 crackling sound when connected to bluetooth   \n",
       "10                                  these broke after 2 years   \n",
       "11                                  impressive sound quality!   \n",
       "12                                                great deal.   \n",
       "13                                                  excellent   \n",
       "14                                   perfect compact speakers   \n",
       "\n",
       "                                                                                                                                                                                                                                                                                                                                                                                                                                                                                                                                                                                                                                                                                                                                                                                                                                                                                                                                                                                                                                                                                                                                                                                                                                                                                                                                                                                                                                                                                                           Content  \\\n",
       "0                                                                                                                                                                                                                                                                                                                                                                                                                                                                                                                                                                                                                                                                                                                                                                                                                                                                                                                                                                                                                                                                                                                                                                                                                                                                                                                                                                                                                                              seem decent build quality and good sound. very happy with purchase.   \n",
       "1                                                                                                                                                                                                                                                                                                                                                                                                                                                                                                                                                                                                                                                                                                                                                                                                                                                                                                                                                                                                                     considering i used to have quite a respectable setup many years ago i've feel into a trap of using bluetooth speakers which leave a lot to be desired. for the price these provide a perfect audio experience. now i'm only filling a 3x3m room so hardly an auditorium but the quality is amazing. i do feel like i could do with a subwoofer for some genres but for the average listening experience, without the neighbours complaining, it's beautiful. almost brings a tear to my eye.   \n",
       "2                                                                                                                                                                                                                                                                                                                                                                                                                                                                                                                                                                                                                                                                                                                                                                                                                                                                                                                                                                                                                                                                                                                                                                                                                                                                                                                                                                                                                                                                                 love its compact shape and sound   \n",
       "3                                                                                                                                                                                                                                                                                                                                                                                                                                                                                                                                                                                                                                                                                                                                                                                                                                                                                                                                                                                                                                                                                                                                                                                                                                                                                                                                                                                                      if you ruining cheap pc speakers those will blow your mind. clean sound, small frame, good value for money.   \n",
       "4   it's been some years since using any monitors as i use dt770 250's for all my audio work and wow, i'm so pleased i added these to my studio...first the sound...the sound is quite flat which is good as you can accurately eq your sound. the bass is \"even\", meaning that it's there but it's not exaggerated. the mids are very well balanced (they sound great) and the high end is also fairly well balanced and you can get some nice air and snap when eqing. for those that have the bayer dynamic dt770 250's, you'll find your headphones have more \"air\" and snap a bit more in the highs by default, the lower mids probably have a little more punch, but not much. going back and forth between the 770's and the monitors should be a similar(ish) experience...build quality and size..very petit in size, they don't take up much room. the build is absolutely fine for the price. no issues there...you have standard connections by means of speaker wire and phono to 3.5mm (unbalanced). i'd recommend using some trs to trs to help eliminate noise from emf...on the backs you also have access to bass and treble knobs to help tune the sound to your room...on the front you have the power switch and 3.5mm ports for headphones and phone so you can play music from your phone via the correct cable, usually 3.5mm to 3.5mm. just note that the headphone in isn't powerful enough to power 250ohm headphones...overall, these monitors are brilliant and well worth the price.   \n",
       "5                                                                                                                                                                                                                                                                                                                                                                                                                                                                                                                                                                                                                                                                                                                                                                                                                                                                                                                                                                                                                                                                                                                                                                                                                                                                                                                   these are probably suited for bedroom use and not anything more. the bass kept cutting out with the highs and mids at times also doing the same. not great at all - i opted for krk’s instead!   \n",
       "6                                                                                                                                                                                                                                                                                                                                                                                                                                                                                                                                                                                                                                                                                                                                                                                                                                                                                                                                                                                                                                                                                                                                                                                                                                                                                                                                                                                                                                     passive speaker won't connect to the main speaker.. faulty.very disappointed   \n",
       "7                                                                                                                                                                                                                                                                                                                                                                                                                                                                                                                                                                                                                                                                                                                                                                                                                                                                                                                                                                                                                                                                                                                                                                  absolutely love these speakers - perfect for dj'ing at home and loud enough for a little boogie with the kids. sound quality is great and i'm glad i did my research ahead of time. build quality is really good, the volume pot is nice and smooth...these would be great for home music production or for gaming...well worth the investment.   \n",
       "8                                                                                                                                                                                                                                                                                                                                                                                                                                                                                                                                                                                                                                                                                                                                                                                                                                                                                                                                                                                                                                                                                                                                                                                                                                                                                                                                                                                                                      very good but not as good as the harman kardon soundticks..though these are smaller overall   \n",
       "9                                                                                                                                                                                                                                                                                                                                                                                                       i’d like to preface this review by saying i tried 2 different sets of these speakers (both the bluetooth version), brand new, and both had the exact same issue, so must be a model issue rather than a one-off problem...the first pair i bought had a constant crackling/buzzing noise coming from the passive speaker when connected to bluetooth. the noise disappeared when disconnected from bluetooth, but appeared instantly when connected. it was audible at low volumes which ruined the listening experience so i exchanged for another set...this second set had the exact same problem. i tried connecting a different bluetooth device, i tried moving the speakers to different rooms, moving electrical devices away, swapping cables around… but the noise would not disappear no matter what i tried...really disappointing and has massively turned me away from purchasing presonus products again...i started the returns process on 2nd may 2023, posted the item the same day, and still have not had a refund - today is 12th may 2023. would love an update on my refund please?   \n",
       "10                                                                                                                                                                                                                                                                                                                                                                                                                                                                                                                                                                                                                                                                                                                                                                                                                                                                                                                                                                                                                                                                                                                                                                                                                                                                                                                                                                                                                                        my speakers broke after a couple of years - useless the amp went inside.   \n",
       "11                                                                                                                                                                                                                                                                                                                                                                                                                                                                                                                                                                                                                                                                                                                                                                                                                                                                                                                                                                                                                                                                                                                                                                                                                                                                                                                                                                                                                        bought a pair of these for my daughter, so good i kept them and ordered another pair :-)   \n",
       "12                                                                                                                                                                                                                                                                                                                                                                                                                                                                                                                                                                                                                                                                                                                                                                                                                                                                                                                                                                                                                                                                                                                                                                                                                                                                                                                                                                                                                                                                                                                   \n",
       "13                                                                                                                                                                                                                                                                                                                                                                                                                                                                                                                                                                                                                                                                                                                                                                                                                                                                                                                                                                                                                                                                                                                                                                                                                                                                                                                                                                                                                                      great set of speakers. good quality sound. easy connections. very happy 🙂👍   \n",
       "14                                                                                                                                                                                                                                                                                                                                                                                                                                                                                                                                      item came next day as promised and packaging was minimal but affective, great to see there was not excessive waste on paper !!..the speakers were very easy to connect, if you were not sure how to connect speakers there was some instructions !..to be honest for the size and price, i was very surprised. i have bang and olufsen speakers from the 90's which at the time cost £300!! they are exceptional so was very dubious of the sound quality albeit they are for my son and his pc/playstation etc.. the sound was actually really sharp and the base was pretty good without any distortion or sound loss. the sound bands were pretty much together and not lost at all..whilst not exactly a match for my b&o, for the price i was so surprised. the sound is so good, and their compact size allows my son to have these on his shelf above him. pretty light weight but they do not compromise on sound..all in all for the price these are a worthy buy   \n",
       "\n",
       "    Rating Sentiment  Year  Month  Day  \n",
       "0        5  Positive  2023      5   28  \n",
       "1        5  Positive  2023      5   27  \n",
       "2        5  Positive  2023      5   26  \n",
       "3        5  Positive  2023      5   23  \n",
       "4        5  Positive  2023      5   21  \n",
       "5        2  Negative  2023      5   20  \n",
       "6        1  Negative  2023      5   18  \n",
       "7        5  Positive  2023      5   17  \n",
       "8        4  Positive  2023      5   14  \n",
       "9        1  Negative  2023      5   12  \n",
       "10       1  Negative  2023      5    9  \n",
       "11       5  Positive  2023      5    7  \n",
       "12       5  Positive  2023      5    7  \n",
       "13       5  Positive  2023      5    4  \n",
       "14       5  Positive  2023      5    4  "
      ]
     },
     "execution_count": 38,
     "metadata": {},
     "output_type": "execute_result"
    }
   ],
   "source": [
    "# reorganize DataFrame\n",
    "df = df[['Clean Review', 'Review', 'Title', 'Content', 'Rating', 'Sentiment', 'Year', 'Month', 'Day']]\n",
    "df.head(15)"
   ]
  },
  {
   "cell_type": "code",
   "execution_count": 39,
   "metadata": {},
   "outputs": [
    {
     "data": {
      "text/plain": [
       "(740, 9)"
      ]
     },
     "execution_count": 39,
     "metadata": {},
     "output_type": "execute_result"
    }
   ],
   "source": [
    "df.shape"
   ]
  },
  {
   "attachments": {},
   "cell_type": "markdown",
   "metadata": {},
   "source": [
    "We ended up with the pandas DataFrame with 740 reviews, all with date, title, rating, comment and a DIY sentiment column. Let's jump into the analysis."
   ]
  },
  {
   "cell_type": "code",
   "execution_count": 40,
   "metadata": {},
   "outputs": [],
   "source": [
    "df.to_csv('G:/Il mio Drive/MAGISTRALE/IT Coding/Project/Sentiment-Analysis-on-Amazon-product-reviews/Data/clean_reviews.csv')"
   ]
  }
 ],
 "metadata": {
  "kernelspec": {
   "display_name": "Python 3",
   "language": "python",
   "name": "python3"
  },
  "language_info": {
   "codemirror_mode": {
    "name": "ipython",
    "version": 3
   },
   "file_extension": ".py",
   "mimetype": "text/x-python",
   "name": "python",
   "nbconvert_exporter": "python",
   "pygments_lexer": "ipython3",
   "version": "3.10.11"
  },
  "orig_nbformat": 4
 },
 "nbformat": 4,
 "nbformat_minor": 2
}
