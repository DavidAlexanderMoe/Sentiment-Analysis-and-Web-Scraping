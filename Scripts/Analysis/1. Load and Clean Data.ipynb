{
 "cells": [
  {
   "attachments": {},
   "cell_type": "markdown",
   "metadata": {},
   "source": [
    "# **Sentiment Analysis**"
   ]
  },
  {
   "attachments": {},
   "cell_type": "markdown",
   "metadata": {},
   "source": [
    "**What is sentiment analysis?** \n",
    "\n",
    "In simple words, Sentiment analysis is defined as the process of mining of data, view, review or sentence to predict the emotion of the sentence through natural language processing (NLP), a branch of computer science concerned with giving computers the ability to understand text and spoken words in much the same way human beings can. The sentiment analysis involve classification of text into three phase “Positive”, “Negative” or“Neutral”. It analyzes the data and labels the ‘better’ and ‘worse’ sentiment as positive and negative respectively.\n",
    "\n",
    "Sentiment Analysis is very helpful in a variety of applications, in this case it is used to understand the real customer feedbacks based on their comments and reviews.\n",
    "\n",
    "---\n",
    "To proceed with this analysis I tried to answer different questions and to check if my assumptions were right or not.\n",
    "\n",
    "From the modeling point of view, different approaches were used:\n",
    "- an approach using the powerful functionalities of the library NLTK (Natural Language ToolKit - https://www.nltk.org/) with the VADER model;\n",
    "- some Machine Learning models (KNN, Naive Bayes, Logistic Regression, SVM, Random Forest, XGBoost) along with pre-trained Deep Learning models (such as HuggingFace's RoBERTa);\n",
    "- extra: use of built pipelines for making sentiment analysis really quick and easy (this will be really useful for the streamlit sentiment analyzer webapp).\n",
    "\n",
    "---\n",
    "\n",
    "This is the analyzed product: \n",
    "- Product: https://www.amazon.co.uk/PreSonus-3-5-inch-High-Definition-Active-Monitors/dp/B075QVMBT9/ref=cm_cr_arp_d_product_top?ie=UTF8\n",
    "- Reviews: https://www.amazon.co.uk/product-reviews/B075QVMBT9/ref=cm_cr_dp_d_show_all_btm?ie=UTF8&reviewerType=all_reviews&sortBy=recent&pageNumber=1"
   ]
  },
  {
   "attachments": {},
   "cell_type": "markdown",
   "metadata": {},
   "source": [
    "## Importing Dependencies"
   ]
  },
  {
   "cell_type": "code",
   "execution_count": 29,
   "metadata": {},
   "outputs": [],
   "source": [
    "import matplotlib.pyplot as plt\n",
    "from matplotlib import style\n",
    "from datetime import datetime\n",
    "import pandas as pd\n",
    "import numpy as np\n",
    "import seaborn as sns\n",
    "import json\n",
    "from wordcloud import WordCloud,STOPWORDS\n",
    "\n",
    "import nltk\n",
    "from nltk.stem  import WordNetLemmatizer"
   ]
  },
  {
   "cell_type": "code",
   "execution_count": 31,
   "metadata": {},
   "outputs": [],
   "source": [
    "pd.set_option(\"max_colwidth\", None)\n",
    "plt.style.use('ggplot')"
   ]
  },
  {
   "attachments": {},
   "cell_type": "markdown",
   "metadata": {},
   "source": [
    "## Loading Data"
   ]
  },
  {
   "attachments": {},
   "cell_type": "markdown",
   "metadata": {},
   "source": [
    "After the data scraping/mining step i ended up with a json file which needs to be converted into a pandas dataframe to simplify the analysis. \n",
    "\n",
    "This is the purpose of the **json_2_pandas** function: it takes as input the path where the json file is located, than opens it in 'read' ('r') mode to load the data. After loading the data, I iterate through the object to extract review titles, ratings and contents and adding them to a dictionary.\n",
    "\n",
    "Then there is another function, the **format_date** function, that uses the datetime module to convert the dates in a easier format for pandas conversion."
   ]
  },
  {
   "cell_type": "code",
   "execution_count": 32,
   "metadata": {},
   "outputs": [],
   "source": [
    "def format_date(css_date):\n",
    "    # only taking the date and joining those elements in a string\n",
    "    date = css_date.split()[len(css_date.split())-3:]\n",
    "    date_string = \" \".join(date)\n",
    "\n",
    "    # change format\n",
    "    date_object = datetime.strptime(date_string, '%d %B %Y')\n",
    "    formatted_date = date_object.strftime('%Y-%m-%d')\n",
    "    return formatted_date"
   ]
  },
  {
   "cell_type": "code",
   "execution_count": 33,
   "metadata": {},
   "outputs": [],
   "source": [
    "def json_2_pandas(json_path):\n",
    "    with open(json_path, 'r') as json_file:\n",
    "        data = json.load(json_file)\n",
    "    \n",
    "    reviews = {\"Date\": [],\n",
    "               \"Title\": [],\n",
    "               \"Rating\": [],\n",
    "               \"Content\": []}\n",
    "\n",
    "    for page in data:\n",
    "        if len(page) != 0:          # if there are reviews in that page list\n",
    "            for review in page:\n",
    "                # append to the lists in the dictionary the desired elements\n",
    "                reviews['Date'].append(format_date(review['place and date']))\n",
    "                reviews['Title'].append(review[\"title\"])\n",
    "                reviews['Rating'].append(int(review[\"rating\"][:1]))\n",
    "                reviews['Content'].append(review[\"body\"])\n",
    "    \n",
    "    reviews = pd.DataFrame.from_dict(reviews)\n",
    "    return reviews"
   ]
  },
  {
   "attachments": {},
   "cell_type": "markdown",
   "metadata": {},
   "source": [
    "Converting the .json file into a pandas DataFrame."
   ]
  },
  {
   "cell_type": "code",
   "execution_count": 34,
   "metadata": {},
   "outputs": [],
   "source": [
    "path = 'G:\\Il mio Drive\\MAGISTRALE\\IT Coding\\Project\\Sentiment-Analysis-on-Amazon-product-reviews\\Data\\B075QVMBT9_reviews.json'\n",
    "df = json_2_pandas(json_path = path)"
   ]
  },
  {
   "cell_type": "code",
   "execution_count": 35,
   "metadata": {},
   "outputs": [],
   "source": [
    "# to have all the reviews in a .csv file\n",
    "df.to_csv('reviews.csv')"
   ]
  },
  {
   "cell_type": "code",
   "execution_count": 36,
   "metadata": {},
   "outputs": [
    {
     "name": "stdout",
     "output_type": "stream",
     "text": [
      "Before correction:  Its a beuaty\n",
      "After correction:  Its a beauty\n"
     ]
    }
   ],
   "source": [
    "print('Before correction: ', df.iloc[2,1])\n",
    "df.iloc[2,1] = \"Its a beauty\"           # can correct it right away since I saw it\n",
    "print('After correction: ', df.iloc[2,1])"
   ]
  },
  {
   "cell_type": "code",
   "execution_count": 37,
   "metadata": {},
   "outputs": [
    {
     "name": "stdout",
     "output_type": "stream",
     "text": [
      "Bought these speakers to use for my new gaming pc and they haven’t disappointed. Well packaged, look and sound great. I often listen to music such as House so wanted speakers that could also have good bass and they would perform. Brilliant for such a low price.\n"
     ]
    }
   ],
   "source": [
    "print(df.iloc[16]['Content'])"
   ]
  },
  {
   "cell_type": "code",
   "execution_count": 38,
   "metadata": {},
   "outputs": [
    {
     "name": "stdout",
     "output_type": "stream",
     "text": [
      "Great set of speakers. Good quality sound. Easy connections. Very happy 🙂👍\n"
     ]
    }
   ],
   "source": [
    "print(df.iloc[13]['Content'])"
   ]
  },
  {
   "attachments": {},
   "cell_type": "markdown",
   "metadata": {},
   "source": [
    "As we can see from these examples, the first one presents some typing errors which can obviously occur when writing a review. Then we see in the second example that long reviews have been scrapped properly, and in the third example we notice also the presence of emoticons.\n",
    "\n",
    "But there could be some missing values: let's check."
   ]
  },
  {
   "cell_type": "code",
   "execution_count": 39,
   "metadata": {},
   "outputs": [
    {
     "data": {
      "text/html": [
       "<div>\n",
       "<style scoped>\n",
       "    .dataframe tbody tr th:only-of-type {\n",
       "        vertical-align: middle;\n",
       "    }\n",
       "\n",
       "    .dataframe tbody tr th {\n",
       "        vertical-align: top;\n",
       "    }\n",
       "\n",
       "    .dataframe thead th {\n",
       "        text-align: right;\n",
       "    }\n",
       "</style>\n",
       "<table border=\"1\" class=\"dataframe\">\n",
       "  <thead>\n",
       "    <tr style=\"text-align: right;\">\n",
       "      <th></th>\n",
       "      <th>Date</th>\n",
       "      <th>Title</th>\n",
       "      <th>Rating</th>\n",
       "      <th>Content</th>\n",
       "    </tr>\n",
       "  </thead>\n",
       "  <tbody>\n",
       "    <tr>\n",
       "      <th>12</th>\n",
       "      <td>2023-05-07</td>\n",
       "      <td>Great deal.</td>\n",
       "      <td>5</td>\n",
       "      <td></td>\n",
       "    </tr>\n",
       "    <tr>\n",
       "      <th>53</th>\n",
       "      <td>2023-03-04</td>\n",
       "      <td>Impressive</td>\n",
       "      <td>5</td>\n",
       "      <td></td>\n",
       "    </tr>\n",
       "    <tr>\n",
       "      <th>78</th>\n",
       "      <td>2022-12-29</td>\n",
       "      <td>Loud, and very clear audio</td>\n",
       "      <td>5</td>\n",
       "      <td></td>\n",
       "    </tr>\n",
       "    <tr>\n",
       "      <th>167</th>\n",
       "      <td>2022-06-24</td>\n",
       "      <td>Awesome! General balanced sound!</td>\n",
       "      <td>5</td>\n",
       "      <td></td>\n",
       "    </tr>\n",
       "    <tr>\n",
       "      <th>291</th>\n",
       "      <td>2021-10-29</td>\n",
       "      <td>great job presonus</td>\n",
       "      <td>5</td>\n",
       "      <td></td>\n",
       "    </tr>\n",
       "    <tr>\n",
       "      <th>296</th>\n",
       "      <td>2021-10-17</td>\n",
       "      <td>Amazing</td>\n",
       "      <td>5</td>\n",
       "      <td></td>\n",
       "    </tr>\n",
       "    <tr>\n",
       "      <th>387</th>\n",
       "      <td>2021-04-12</td>\n",
       "      <td>The best speakers I have ever owned</td>\n",
       "      <td>5</td>\n",
       "      <td></td>\n",
       "    </tr>\n",
       "    <tr>\n",
       "      <th>563</th>\n",
       "      <td>2020-05-07</td>\n",
       "      <td>Amazing Sound. Best I have ever heard</td>\n",
       "      <td>5</td>\n",
       "      <td></td>\n",
       "    </tr>\n",
       "    <tr>\n",
       "      <th>601</th>\n",
       "      <td>2020-02-14</td>\n",
       "      <td>Good quality</td>\n",
       "      <td>3</td>\n",
       "      <td></td>\n",
       "    </tr>\n",
       "  </tbody>\n",
       "</table>\n",
       "</div>"
      ],
      "text/plain": [
       "           Date                                  Title  Rating Content\n",
       "12   2023-05-07                            Great deal.       5        \n",
       "53   2023-03-04                             Impressive       5        \n",
       "78   2022-12-29             Loud, and very clear audio       5        \n",
       "167  2022-06-24       Awesome! General balanced sound!       5        \n",
       "291  2021-10-29                     great job presonus       5        \n",
       "296  2021-10-17                                Amazing       5        \n",
       "387  2021-04-12    The best speakers I have ever owned       5        \n",
       "563  2020-05-07  Amazing Sound. Best I have ever heard       5        \n",
       "601  2020-02-14                           Good quality       3        "
      ]
     },
     "execution_count": 39,
     "metadata": {},
     "output_type": "execute_result"
    }
   ],
   "source": [
    "df[df['Content'].str.len() == 0]"
   ]
  },
  {
   "attachments": {},
   "cell_type": "markdown",
   "metadata": {},
   "source": [
    "We have some missing review contents, but thanks to the title and the rating (as we can see) we can draw some sentiment insights either way! In fact we can already say that these empty reviews are all highly positive, apart from the last one (601) which is pretty neutral, exposing a comment about the good quality of the product but nothing more."
   ]
  },
  {
   "attachments": {},
   "cell_type": "markdown",
   "metadata": {},
   "source": [
    "## Data Cleaning and PreProcessing"
   ]
  },
  {
   "attachments": {},
   "cell_type": "markdown",
   "metadata": {},
   "source": [
    "### DATE\n",
    "\n",
    "Quick date manipulation to obtain 3 columns Day, Month and Year:"
   ]
  },
  {
   "cell_type": "code",
   "execution_count": 40,
   "metadata": {},
   "outputs": [],
   "source": [
    "# splitting day, month and year in 3 separate columns\n",
    "date = df['Date'].str.split(\"-\", n=2, expand=True)      # splitting all the values in the column at most 2 times\n",
    "df['Year'] = date[0].astype(int)\n",
    "df['Month'] = date[1].astype(int)\n",
    "df['Day'] = date[2].astype(int)\n",
    "df = df.drop(['Date'], axis=1)"
   ]
  },
  {
   "attachments": {},
   "cell_type": "markdown",
   "metadata": {},
   "source": [
    "### STOP WORDS\n",
    "\n",
    "Creating a column without stop words. Coming to stop words, these are words that do not imapct the overall sentiment of the review, but the general nltk stop words contains words like not, hasn't, would'nt which actually conveys a negative sentiment. If I remove that it will end up contradicting the target variable (sentiment). So I have curated a list of the stop words which doesn't have any negative sentiment or any negative alternatives.\n",
    "\n",
    "Obviously these are just some of the many stopwords, but i'll use these as a reference for some EDA."
   ]
  },
  {
   "cell_type": "code",
   "execution_count": 41,
   "metadata": {},
   "outputs": [],
   "source": [
    "# convert first everything in lower case to maximize matching of stopwords (and not only)\n",
    "df['Title'] = df['Title'].str.lower()\n",
    "df['Content'] = df['Content'].str.lower()"
   ]
  },
  {
   "cell_type": "code",
   "execution_count": 42,
   "metadata": {},
   "outputs": [
    {
     "data": {
      "text/plain": [
       "145"
      ]
     },
     "execution_count": 42,
     "metadata": {},
     "output_type": "execute_result"
    }
   ],
   "source": [
    "# stop_words = stopwords.words('english')\n",
    "# print(stop_words)\n",
    "stop_words = ['i', 'me', \"needn't\", \"don't\", \"isn\", 'my', 'myself', 'we', 'our', 'ours', 'ourselves', 'you', \"you're\", \"you've\", \"you'll\", \"you'd\", 'your', 'yours', 'yourself', 'yourselves', 'he', 'him', 'his', 'himself', 'she', \"she's\", 'her', 'hers', 'herself', 'it', \"it's\", 'its', 'itself', 'they', 'them', 'their', 'theirs', 'themselves', 'what', 'which', 'who', 'whom', 'this', 'that', \"that'll\", 'these', 'those', 'am', 'is', 'are', 'was', 'were', 'be', 'been', 'being', 'have', 'has', 'had', 'having', 'do', 'does', 'did', 'doing', 'a', 'an', 'the', 'and', 'but', 'if', 'or', 'because', 'as', 'until', 'while', 'of', 'at', 'by', 'for', 'with', 'about', 'against', 'between', 'into', 'through', 'during', 'before', 'after', 'above', 'below', 'to', 'from', 'up', 'down', 'in', 'out', 'on', 'off', 'over', 'under', 'again', 'further', 'then', 'once', 'here', 'there', 'when', 'where', 'why', 'how', 'all', 'any', 'both', 'each', 'few', 'more', 'most', 'other', 'some', 'such', 'only', 'own', 'same', 'so', 'than', 'too', 'very', 's', 't', 'can', 'will', 'just', 'should', \"should've\", 'now', 'd', 'll', 'm', 'o', 're', 've', 'y']\n",
    "new_stopwords = [\"would\",\"shall\",\"could\",\"might\"]\n",
    "stop_words.extend(new_stopwords)\n",
    "len(stop_words)"
   ]
  },
  {
   "cell_type": "code",
   "execution_count": 43,
   "metadata": {},
   "outputs": [],
   "source": [
    "# basically crating a new column with all the content in the review eliminating with list comprehension the words in the stop_words set of words\n",
    "df['Clean Content'] = df['Content'].apply(lambda x: ' '.join([word for word in x.split() if word not in (stop_words)]))"
   ]
  },
  {
   "attachments": {},
   "cell_type": "markdown",
   "metadata": {},
   "source": [
    "### DIY SENTIMENT\n",
    "\n",
    "Lastly, I will create a function that creates a new column named 'Sentiment' based on the customer rating."
   ]
  },
  {
   "cell_type": "code",
   "execution_count": 44,
   "metadata": {},
   "outputs": [],
   "source": [
    "def rating_2_sentiment(row):\n",
    "    if row == 3:\n",
    "        sentiment = 'Neutral'\n",
    "    elif row == 4 or row == 5:\n",
    "        sentiment = 'Positive'\n",
    "    elif row == 1 or row == 2:\n",
    "        sentiment = 'Negative'\n",
    "    return sentiment"
   ]
  },
  {
   "cell_type": "code",
   "execution_count": 45,
   "metadata": {},
   "outputs": [],
   "source": [
    "# apply function to Rating column\n",
    "df['Sentiment'] = df['Rating'].apply(rating_2_sentiment)"
   ]
  },
  {
   "attachments": {},
   "cell_type": "markdown",
   "metadata": {},
   "source": [
    "### RE-ORGANIZE DATASET\n",
    "\n",
    "Putting in a new column the content + the title of the review for integrity and completeness. This will also be useful not only for evaluating the sentiment, but also to have a sort of \"content review\" also for the observations without revire content!"
   ]
  },
  {
   "cell_type": "code",
   "execution_count": 46,
   "metadata": {},
   "outputs": [],
   "source": [
    "# generalize with . even though there are some titles that end up with some kind of punctuation\n",
    "df['Review'] = df['Title'] + '. ' + df['Clean Content']"
   ]
  },
  {
   "attachments": {},
   "cell_type": "markdown",
   "metadata": {},
   "source": [
    "Let's now visualize the complete DataFrame."
   ]
  },
  {
   "cell_type": "code",
   "execution_count": 47,
   "metadata": {},
   "outputs": [
    {
     "data": {
      "text/html": [
       "<div>\n",
       "<style scoped>\n",
       "    .dataframe tbody tr th:only-of-type {\n",
       "        vertical-align: middle;\n",
       "    }\n",
       "\n",
       "    .dataframe tbody tr th {\n",
       "        vertical-align: top;\n",
       "    }\n",
       "\n",
       "    .dataframe thead th {\n",
       "        text-align: right;\n",
       "    }\n",
       "</style>\n",
       "<table border=\"1\" class=\"dataframe\">\n",
       "  <thead>\n",
       "    <tr style=\"text-align: right;\">\n",
       "      <th></th>\n",
       "      <th>Title</th>\n",
       "      <th>Content</th>\n",
       "      <th>Clean Content</th>\n",
       "      <th>Review</th>\n",
       "      <th>Rating</th>\n",
       "      <th>Sentiment</th>\n",
       "      <th>Year</th>\n",
       "      <th>Month</th>\n",
       "      <th>Day</th>\n",
       "    </tr>\n",
       "  </thead>\n",
       "  <tbody>\n",
       "    <tr>\n",
       "      <th>260</th>\n",
       "      <td>amazing</td>\n",
       "      <td>amazing</td>\n",
       "      <td>amazing</td>\n",
       "      <td>amazing. amazing</td>\n",
       "      <td>5</td>\n",
       "      <td>Positive</td>\n",
       "      <td>2021</td>\n",
       "      <td>12</td>\n",
       "      <td>22</td>\n",
       "    </tr>\n",
       "    <tr>\n",
       "      <th>82</th>\n",
       "      <td>astounding sound quality</td>\n",
       "      <td>these are by far the best speakers i have ever used on my pc - absolutely stunning sound quality, very clean and not overpowering bass. for the first time i have the eq setting on neutral to just enjoy the pure clarity that these offer...perfect for music, videos and gaming!</td>\n",
       "      <td>far best speakers ever used pc - absolutely stunning sound quality, clean not overpowering bass. first time eq setting neutral enjoy pure clarity offer...perfect music, videos gaming!</td>\n",
       "      <td>astounding sound quality. far best speakers ever used pc - absolutely stunning sound quality, clean not overpowering bass. first time eq setting neutral enjoy pure clarity offer...perfect music, videos gaming!</td>\n",
       "      <td>5</td>\n",
       "      <td>Positive</td>\n",
       "      <td>2022</td>\n",
       "      <td>12</td>\n",
       "      <td>18</td>\n",
       "    </tr>\n",
       "    <tr>\n",
       "      <th>218</th>\n",
       "      <td>very pleased</td>\n",
       "      <td>great product</td>\n",
       "      <td>great product</td>\n",
       "      <td>very pleased. great product</td>\n",
       "      <td>5</td>\n",
       "      <td>Positive</td>\n",
       "      <td>2022</td>\n",
       "      <td>2</td>\n",
       "      <td>27</td>\n",
       "    </tr>\n",
       "    <tr>\n",
       "      <th>577</th>\n",
       "      <td>sound quality is fudging amazing!</td>\n",
       "      <td>these speakers are 100% accurate and is worth the price. the bass is unbelievably amazing and its good for music production and more! deffo recommend this prduct.</td>\n",
       "      <td>speakers 100% accurate worth price. bass unbelievably amazing good music production more! deffo recommend prduct.</td>\n",
       "      <td>sound quality is fudging amazing!. speakers 100% accurate worth price. bass unbelievably amazing good music production more! deffo recommend prduct.</td>\n",
       "      <td>5</td>\n",
       "      <td>Positive</td>\n",
       "      <td>2020</td>\n",
       "      <td>4</td>\n",
       "      <td>15</td>\n",
       "    </tr>\n",
       "    <tr>\n",
       "      <th>393</th>\n",
       "      <td>for something so small, they fill your room with quality sound.</td>\n",
       "      <td>presonus fits really well in my bedroom. i’ve fitted them either side of my chimney breast for true stereo and they sound amazing even without a subwoofer...i highly recommend them.</td>\n",
       "      <td>presonus fits really well bedroom. i’ve fitted either side chimney breast true stereo sound amazing even without subwoofer...i highly recommend them.</td>\n",
       "      <td>for something so small, they fill your room with quality sound.. presonus fits really well bedroom. i’ve fitted either side chimney breast true stereo sound amazing even without subwoofer...i highly recommend them.</td>\n",
       "      <td>5</td>\n",
       "      <td>Positive</td>\n",
       "      <td>2021</td>\n",
       "      <td>4</td>\n",
       "      <td>4</td>\n",
       "    </tr>\n",
       "  </tbody>\n",
       "</table>\n",
       "</div>"
      ],
      "text/plain": [
       "                                                               Title  \\\n",
       "260                                                          amazing   \n",
       "82                                          astounding sound quality   \n",
       "218                                                     very pleased   \n",
       "577                                sound quality is fudging amazing!   \n",
       "393  for something so small, they fill your room with quality sound.   \n",
       "\n",
       "                                                                                                                                                                                                                                                                                 Content  \\\n",
       "260                                                                                                                                                                                                                                                                              amazing   \n",
       "82   these are by far the best speakers i have ever used on my pc - absolutely stunning sound quality, very clean and not overpowering bass. for the first time i have the eq setting on neutral to just enjoy the pure clarity that these offer...perfect for music, videos and gaming!   \n",
       "218                                                                                                                                                                                                                                                                        great product   \n",
       "577                                                                                                                   these speakers are 100% accurate and is worth the price. the bass is unbelievably amazing and its good for music production and more! deffo recommend this prduct.   \n",
       "393                                                                                                presonus fits really well in my bedroom. i’ve fitted them either side of my chimney breast for true stereo and they sound amazing even without a subwoofer...i highly recommend them.   \n",
       "\n",
       "                                                                                                                                                                               Clean Content  \\\n",
       "260                                                                                                                                                                                  amazing   \n",
       "82   far best speakers ever used pc - absolutely stunning sound quality, clean not overpowering bass. first time eq setting neutral enjoy pure clarity offer...perfect music, videos gaming!   \n",
       "218                                                                                                                                                                            great product   \n",
       "577                                                                        speakers 100% accurate worth price. bass unbelievably amazing good music production more! deffo recommend prduct.   \n",
       "393                                    presonus fits really well bedroom. i’ve fitted either side chimney breast true stereo sound amazing even without subwoofer...i highly recommend them.   \n",
       "\n",
       "                                                                                                                                                                                                                     Review  \\\n",
       "260                                                                                                                                                                                                        amazing. amazing   \n",
       "82        astounding sound quality. far best speakers ever used pc - absolutely stunning sound quality, clean not overpowering bass. first time eq setting neutral enjoy pure clarity offer...perfect music, videos gaming!   \n",
       "218                                                                                                                                                                                             very pleased. great product   \n",
       "577                                                                    sound quality is fudging amazing!. speakers 100% accurate worth price. bass unbelievably amazing good music production more! deffo recommend prduct.   \n",
       "393  for something so small, they fill your room with quality sound.. presonus fits really well bedroom. i’ve fitted either side chimney breast true stereo sound amazing even without subwoofer...i highly recommend them.   \n",
       "\n",
       "     Rating Sentiment  Year  Month  Day  \n",
       "260       5  Positive  2021     12   22  \n",
       "82        5  Positive  2022     12   18  \n",
       "218       5  Positive  2022      2   27  \n",
       "577       5  Positive  2020      4   15  \n",
       "393       5  Positive  2021      4    4  "
      ]
     },
     "execution_count": 47,
     "metadata": {},
     "output_type": "execute_result"
    }
   ],
   "source": [
    "# reorganize DataFrame\n",
    "df = df[['Title', 'Content', 'Clean Content', 'Review', 'Rating', 'Sentiment', 'Year', 'Month', 'Day']]\n",
    "df.sample(5)"
   ]
  },
  {
   "cell_type": "code",
   "execution_count": 48,
   "metadata": {},
   "outputs": [
    {
     "data": {
      "text/plain": [
       "(740, 9)"
      ]
     },
     "execution_count": 48,
     "metadata": {},
     "output_type": "execute_result"
    }
   ],
   "source": [
    "df.shape"
   ]
  },
  {
   "attachments": {},
   "cell_type": "markdown",
   "metadata": {},
   "source": [
    "We ended up with the pandas DataFrame with 740 reviews, all with date, title, rating, comment and a DIY sentiment column. Let's jump into the analysis."
   ]
  },
  {
   "cell_type": "code",
   "execution_count": 49,
   "metadata": {},
   "outputs": [],
   "source": [
    "df.to_csv('clean_reviews.csv') "
   ]
  }
 ],
 "metadata": {
  "kernelspec": {
   "display_name": "Python 3",
   "language": "python",
   "name": "python3"
  },
  "language_info": {
   "codemirror_mode": {
    "name": "ipython",
    "version": 3
   },
   "file_extension": ".py",
   "mimetype": "text/x-python",
   "name": "python",
   "nbconvert_exporter": "python",
   "pygments_lexer": "ipython3",
   "version": "3.10.11"
  },
  "orig_nbformat": 4
 },
 "nbformat": 4,
 "nbformat_minor": 2
}
